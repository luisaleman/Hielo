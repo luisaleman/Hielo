{
 "cells": [
  {
   "cell_type": "markdown",
   "metadata": {},
   "source": [
    "#Proyecto final: Modelos de hielo usando el short/long loop"
   ]
  },
  {
   "cell_type": "markdown",
   "metadata": {},
   "source": [
    "Luis Arturo \\\\ Jorge Ramírez"
   ]
  },
  {
   "cell_type": "code",
   "execution_count": 1,
   "metadata": {
    "collapsed": false
   },
   "outputs": [],
   "source": [
    "using PyPlot"
   ]
  },
  {
   "cell_type": "code",
   "execution_count": 2,
   "metadata": {
    "collapsed": false
   },
   "outputs": [
    {
     "data": {
      "text/plain": [
       "Config (generic function with 1 method)"
      ]
     },
     "execution_count": 2,
     "metadata": {},
     "output_type": "execute_result"
    }
   ],
   "source": [
    "function Config(L)\n",
    "    if mod(L,2)!=0\n",
    "        L+=1\n",
    "    end\n",
    "    config=ones(L,L)\n",
    "    return config\n",
    "end"
   ]
  },
  {
   "cell_type": "code",
   "execution_count": 3,
   "metadata": {
    "collapsed": false
   },
   "outputs": [
    {
     "data": {
      "text/plain": [
       "Initialize (generic function with 1 method)"
      ]
     },
     "execution_count": 3,
     "metadata": {},
     "output_type": "execute_result"
    }
   ],
   "source": [
    "function Initialize(i,j,config,red_bool)\n",
    "    L=length(config[1,:])\n",
    "    #se escoje la dirección del inicial \n",
    "    config[i,j]=2*round(rand())-1\n",
    "    #se marca la zona de retorno\n",
    "    if mod(i,2)==mod(j,2)\n",
    "        red_bool[mod1(i+config[i,j],L),mod1(j+config[i,j],L)]=false\n",
    "        red_bool[mod1(i+config[i,j],L),j]=false\n",
    "        red_bool[i,mod1(j+config[i,j],L)]=false\n",
    "    else\n",
    "        red_bool[mod1(i+config[i,j],L),mod1(j-config[i,j],L)]=false\n",
    "        red_bool[mod1(i+config[i,j],L),j]=false\n",
    "        red_bool[i,mod1(j-config[i,j],L)]=false\n",
    "    end\n",
    "    return config, red_bool\n",
    "end"
   ]
  },
  {
   "cell_type": "code",
   "execution_count": 4,
   "metadata": {
    "collapsed": false
   },
   "outputs": [
    {
     "data": {
      "text/plain": [
       "Step (generic function with 1 method)"
      ]
     },
     "execution_count": 4,
     "metadata": {},
     "output_type": "execute_result"
    }
   ],
   "source": [
    "function Step(i,j,config)\n",
    "    L=length(config[1,:])\n",
    "    #se escoge el paso a dar en i y j\n",
    "    r=rand()\n",
    "    i_step=ceil(1-3*(r)/2)\n",
    "    j_step=ceil(3*(r)/2-1/2)\n",
    "    if config[i,j]>0\n",
    "        if mod(i,2)==mod(j,2)\n",
    "            i_new=mod1(i-i_step,L)\n",
    "            j_new=mod1(j-j_step,L)\n",
    "        else\n",
    "            i_new=mod1(i-i_step,L)\n",
    "            j_new=mod1(j+j_step,L)\n",
    "        end\n",
    "    else\n",
    "        if mod(i,2)==mod(j,2)\n",
    "            i_new=mod1(i+i_step,L)\n",
    "            j_new=mod1(j+j_step,L)\n",
    "        else\n",
    "            i_new=mod1(i+i_step,L)\n",
    "            j_new=mod1(j-j_step,L)\n",
    "        end\n",
    "    end\n",
    "    #se cambia la dirección de la nueva flecha si es necesario\n",
    "    if i_step==0 \n",
    "        config[i_new,j_new]=-config[i,j]\n",
    "    else\n",
    "        config[i_new,j_new]=config[i,j]\n",
    "    end\n",
    "    return i_new,j_new, config\n",
    "end"
   ]
  },
  {
   "cell_type": "code",
   "execution_count": 5,
   "metadata": {
    "collapsed": false
   },
   "outputs": [
    {
     "data": {
      "text/plain": [
       "Long_loop (generic function with 1 method)"
      ]
     },
     "execution_count": 5,
     "metadata": {},
     "output_type": "execute_result"
    }
   ],
   "source": [
    "function Long_loop(config)\n",
    "    #El modelo que implemento sólo es compatible con redes \"pares\" por las condiciones periódicas\n",
    "    L=length(config[1,:])\n",
    "    red_bool=trues(L,L)\n",
    "    #escojo la celda inicial\n",
    "    i=rand(1:L)\n",
    "    j=rand(1:L)\n",
    "    i_array=[i]\n",
    "    j_array=[j]\n",
    "    #Se escoge la dirección del inicial\n",
    "    config,red_bool=Initialize(i,j,config,red_bool)\n",
    "    #Se inicia la creación del loop\n",
    "    t=1\n",
    "    t_limit=L*L\n",
    "    while t < t_limit\n",
    "        #calculo el nuevo paso\n",
    "        i_new,j_new,config=Step(i_array[t],j_array[t],config)\n",
    "        push!(i_array,i_new)\n",
    "        push!(j_array,j_new)\n",
    "        #si ya se llegó a la zona de retorno, se termina el loop\n",
    "        if red_bool[i_new,j_new]==false\n",
    "            t=t_limit\n",
    "        end\n",
    "        t+=1\n",
    "    end\n",
    "    return config\n",
    "end"
   ]
  },
  {
   "cell_type": "code",
   "execution_count": 11,
   "metadata": {
    "collapsed": false
   },
   "outputs": [
    {
     "name": "stdout",
     "output_type": "stream",
     "text": [
      "elapsed time: 0.20220254 seconds (189 MB allocated, 14.89% gc time in 8 pauses with 0 full sweep)\n"
     ]
    },
    {
     "data": {
      "image/png": "[encoded data removed]",
      "text/plain": [
       "PyPlot.Figure(PyObject <matplotlib.figure.Figure object at 0x3129c1650>)"
      ]
     },
     "metadata": {},
     "output_type": "display_data"
    },
    {
     "data": {
      "text/plain": [
       "PyObject <matplotlib.collections.QuadMesh object at 0x329265dd0>"
      ]
     },
     "execution_count": 11,
     "metadata": {},
     "output_type": "execute_result"
    }
   ],
   "source": [
    "original=Config(100)\n",
    "new=copy(original)\n",
    "@time for t in 1:60\n",
    "    meanwhile=Long_loop(new)\n",
    "    new=meanwhile\n",
    "end\n",
    "figure(figsize=[8,6])\n",
    "subplot(1,2,1)\n",
    "#figure(figsize=[3,3])\n",
    "pcolormesh(original)\n",
    "\n",
    "subplot(1,2,2)\n",
    "pcolormesh(new)\n"
   ]
  },
  {
   "cell_type": "code",
   "execution_count": 17,
   "metadata": {
    "collapsed": false
   },
   "outputs": [
    {
     "data": {
      "text/plain": [
       "Step_short (generic function with 2 methods)"
      ]
     },
     "execution_count": 17,
     "metadata": {},
     "output_type": "execute_result"
    }
   ],
   "source": [
    "function Step_short(i,j,config,red_bool)\n",
    "    L=length(config[1,:])\n",
    "    #se escoge el paso a dar en i y j\n",
    "    r=rand()\n",
    "    i_step=ceil(1-3*(r)/2)\n",
    "    j_step=ceil(3*(r)/2-1/2)\n",
    "    if config[i,j]>0\n",
    "        if mod(i,2)==mod(j,2)\n",
    "            i_new=mod1(i-i_step,L)\n",
    "            j_new=mod1(j-j_step,L)\n",
    "        else\n",
    "            i_new=mod1(i-i_step,L)\n",
    "            j_new=mod1(j+j_step,L)\n",
    "        end\n",
    "    else\n",
    "        if mod(i,2)==mod(j,2)\n",
    "            i_new=mod1(i+i_step,L)\n",
    "            j_new=mod1(j+j_step,L)\n",
    "        else\n",
    "            i_new=mod1(i+i_step,L)\n",
    "            j_new=mod1(j-j_step,L)\n",
    "        end\n",
    "    end\n",
    "    #se cambia la dirección de la nueva flecha si es necesario\n",
    "    if i_step==0 \n",
    "        config[i_new,j_new]=-config[i,j]\n",
    "    else\n",
    "        config[i_new,j_new]=config[i,j]\n",
    "    end\n",
    "    #se marcan las zonas de posibles retornos\n",
    "    if mod(i_new,2)==mod(j_new,2)\n",
    "        red_bool[mod1(i+config[i_new,j_new],L),mod1(j+config[i_new,j_new],L)]=false\n",
    "        red_bool[mod1(i+config[i_new,j_new],L),j]=false\n",
    "        red_bool[i,mod1(j+config[i_new,j_new],L)]=false\n",
    "    else\n",
    "        red_bool[mod1(i+config[i_new,j_new],L),mod1(j-config[i_new,j_new],L)]=false\n",
    "        red_bool[mod1(i+config[i_new,j_new],L),j]=false\n",
    "        red_bool[i,mod1(j-config[i_new,j_new],L)]=false\n",
    "    end\n",
    "    \n",
    "    return i_new,j_new, config, red_bool\n",
    "end"
   ]
  },
  {
   "cell_type": "code",
   "execution_count": 32,
   "metadata": {
    "collapsed": false
   },
   "outputs": [
    {
     "data": {
      "text/plain": [
       "Reverse (generic function with 1 method)"
      ]
     },
     "execution_count": 32,
     "metadata": {},
     "output_type": "execute_result"
    }
   ],
   "source": [
    "function Reverse(i_array,j_array,config)\n",
    "    t_last=length(i_array)\n",
    "    L=length(config)\n",
    "    a=[0,0,0]\n",
    "    b=[0,0,0]\n",
    "    #marco las coordenadas de las posibles celdas que pertenezcan al camino\n",
    "    if mod(i_array[t_last],2)==mod(j_array[t_last],2)\n",
    "        a[1]=mod1(i_array[t_last]+config[i_array[t_last],j_array[t_last]],L)\n",
    "        b[1]=mod1(j_array[t_last]+config[i_array[t_last],j_array[t_last]],L)\n",
    "        a[2]=mod1(i_array[t_last]+config[i_array[t_last],j_array[t_last]],L)\n",
    "        b[2]=j_array[t_last]\n",
    "        a[3]=i_array[t_last]\n",
    "        b[3]=mod1(j_array[t_last]+config[i_array[t_last],j_array[t_last]],L)\n",
    "    else\n",
    "        a[1]=mod1(i_array[t_last]+config[i_array[t_last],j_array[t_last]],L)\n",
    "        b[1]=mod1(j_array[t_last]-config[i_array[t_last],j_array[t_last]],L)\n",
    "        a[2]=mod1(i_array[t_last]+config[i_array[t_last],j_array[t_last]],L)\n",
    "        b[2]=j_array[t_last]\n",
    "        a[3]=i_array[t_last]\n",
    "        b[3]=mod1(j_array[t_last]-config[i_array[t_last],j_array[t_last]],L)\n",
    "    end\n",
    "    counter=0\n",
    "    t_min=t_last\n",
    "    #encuentro las celdas que corresponden y de ahí revierto lo hecho\n",
    "    for i in 1:t_last-1\n",
    "        if counter<2\n",
    "            for s in 1:3\n",
    "                if i_array[t_last-i]==a[s] && j_array[t_last-i]==b[s]\n",
    "                    counter+=1\n",
    "                    t_min=t_last-1\n",
    "                    println(t_min)\n",
    "                end\n",
    "            end\n",
    "        else\n",
    "            config[i_array[t_last-1],j_array[t_last-1]]*=-1\n",
    "        end\n",
    "    end\n",
    "    return config\n",
    "end"
   ]
  },
  {
   "cell_type": "code",
   "execution_count": 33,
   "metadata": {
    "collapsed": false
   },
   "outputs": [
    {
     "data": {
      "text/plain": [
       "Short_loop (generic function with 1 method)"
      ]
     },
     "execution_count": 33,
     "metadata": {},
     "output_type": "execute_result"
    }
   ],
   "source": [
    "function Short_loop(config)\n",
    "    #El modelo que implemento sólo es compatible con redes \"pares\" por las condiciones periódicas\n",
    "    L=length(config[1,:])\n",
    "    red_bool=trues(L,L)\n",
    "    #escojo la celda inicial\n",
    "    i=rand(1:L)\n",
    "    j=rand(1:L)\n",
    "    i_array=[i]\n",
    "    j_array=[j]\n",
    "    #Se escoge la dirección del inicial\n",
    "    config,red_bool=Initialize(i,j,config,red_bool)\n",
    "    #Se inicia la creación del loop\n",
    "    t=1\n",
    "    t_limit=L*L\n",
    "    t_last=0\n",
    "    while t < t_limit\n",
    "        #calculo el nuevo paso\n",
    "        i_new,j_new,config,red_bool=Step_short(i_array[t],j_array[t],config,red_bool)\n",
    "        push!(i_array,i_new)\n",
    "        push!(j_array,j_new)\n",
    "        #si ya se llegó a la zona de retorno, se termina el loop\n",
    "        if red_bool[i_new,j_new]==false\n",
    "            t_last=t+1\n",
    "            t=t_limit\n",
    "        end\n",
    "        t+=1\n",
    "    end\n",
    "    @show i_array, j_array\n",
    "    config=Reverse(i_array,j_array,config)\n",
    "    return config,red_bool\n",
    "end"
   ]
  },
  {
   "cell_type": "code",
   "execution_count": 37,
   "metadata": {
    "collapsed": false
   },
   "outputs": [
    {
     "name": "stdout",
     "output_type": "stream",
     "text": [
      "(i_array,j_array) = ([4,3,2,1,6,5],[4,4,4,4,4,4])\n",
      "5\n"
     ]
    },
    {
     "data": {
      "text/plain": [
       "(\n",
       "6x6 Array{Float64,2}:\n",
       " 1.0  1.0  1.0  1.0  1.0  1.0\n",
       " 1.0  1.0  1.0  1.0  1.0  1.0\n",
       " 1.0  1.0  1.0  1.0  1.0  1.0\n",
       " 1.0  1.0  1.0  1.0  1.0  1.0\n",
       " 1.0  1.0  1.0  1.0  1.0  1.0\n",
       " 1.0  1.0  1.0  1.0  1.0  1.0,\n",
       "\n",
       "6x6 BitArray{2}:\n",
       " true  true  false  false  false  true\n",
       " true  true  false  false  false  true\n",
       " true  true  false  false  false  true\n",
       " true  true  false  false  false  true\n",
       " true  true  false  false  false  true\n",
       " true  true  false   true   true  true)"
      ]
     },
     "execution_count": 37,
     "metadata": {},
     "output_type": "execute_result"
    }
   ],
   "source": [
    "original=Config(6)\n",
    "original,huy=Short_loop(original)"
   ]
  },
  {
   "cell_type": "code",
   "execution_count": null,
   "metadata": {
    "collapsed": true
   },
   "outputs": [],
   "source": []
  },
  {
   "cell_type": "code",
   "execution_count": null,
   "metadata": {
    "collapsed": true
   },
   "outputs": [],
   "source": []
  }
 ],
 "metadata": {
  "kernelspec": {
   "display_name": "Julia 0.4.0-dev",
   "language": "julia",
   "name": "julia 0.4"
  },
  "language_info": {
   "name": "julia",
   "version": "0.4.0"
  }
 },
 "nbformat": 4,
 "nbformat_minor": 0
}
