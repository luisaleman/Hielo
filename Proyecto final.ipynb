{
 "cells": [
  {
   "cell_type": "markdown",
   "metadata": {},
   "source": [
    "# Proyecto Final: Modelos de Hielo\n",
    "\n",
    "Luis Alemán\n",
    "\\\\ Jorge Ramírez"
   ]
  },
  {
   "cell_type": "markdown",
   "metadata": {},
   "source": [
    "- Computacionalmente, el hielo ha sido estudiado desde los 60's por ser algo común y el tamaño de sus constituyentes era suficientemente pequeño (o grande) para ser estudiado numéricamente desde las primeras computadoras. \n",
    "- Desde el final del siglo XIX, se sabía que la estructura de los copos de nieve era hexagonal. No fue hasta 1929 hasta que se descubrió que es la estructura del hielo $I_h$ a presión normal.\n",
    "- Después de más experimentos de difracción, se dedujo que los oxígenos formaban una red y los hidrógenos no se acomodaban en una red determinada. Más tarde se descubrió que los hidrógenos no se acomodan a la mitad entre dos oxígenos, sino que cada uno de ellos se mantiene cerca de un oxígeno en particular. Además, dos y sólo dos hidrógenos están asociados a cada oxígeno, de manera que la estructura de las moléculas de agua como unidades estructurales se preserva.\n",
    "- Desde 1933 se intentó predecir arreglos de los hidrógenos, sin encontrar alguna que coincidiera con que no se formaran super-redes de hidrógenos.\n",
    "- Reglas del hielo:\n",
    " 1. Hay sola y necesariamente un hidrógeno en cada puente de hidrógeno.\n",
    " 2. Hay exactamente dos iones hidrógeno asociados a cada oxígeno."
   ]
  },
  {
   "cell_type": "markdown",
   "metadata": {},
   "source": [
    "<img src=\"6config.png\">"
   ]
  },
  {
   "cell_type": "markdown",
   "metadata": {},
   "source": [
    "Existen muchos modelos para comprender la estructura del hielo. Durante este notebook trabajaremos con hielo \"cuadrado\", es decir, una red cuadrada de iones de oxígeno que están unidos por puentes de hidrógeno. Los grados de libertad con los que trabajaremos serán las posiciones de equilibrio de los iones de hidrógeno."
   ]
  },
  {
   "cell_type": "markdown",
   "metadata": {},
   "source": [
    "En 1962, Lennard planteó una bonita manera de tratar equivalentemente con este modelo de flechas, el modelo de 3 colores.\n",
    "<img src=\"3colores.png\" width=400>"
   ]
  },
  {
   "cell_type": "markdown",
   "metadata": {},
   "source": [
    "###Algoritmo para modelo de 3 colores:\n",
    "1. Escogemos al azar un sitio de toda la red como semilla de nuestro cluster. Este sitio tiene color A.\n",
    "2. Escogemos al azar un segundo color de las otras dos posibilidades, lo llamamos color B.\n",
    "3. Empezando de nuestra semilla, formamos un cluster de sitios añadiendo todos los primeros vecinos que tengan color A o color B. Paramos hasta que todos los primeros vecinos de la frontera de nuestro cluster sean color C.\n",
    "4. Los colores A y B de todos los sitios del cluster son intercambiados."
   ]
  },
  {
   "cell_type": "markdown",
   "metadata": {},
   "source": [
    "####Balance detallado\n",
    "Consideramos un movimiento de un estado $\\mu$ a un estado $\\nu$, el cual involucra un cluster de m sitios. La probabilidad de ir tomar la semilla dentro de este cluster es $m/N$. La probabilidad de escoger a un color B es $1/2$. No hay más decisiones. Por lo tanto P($\\mu \\rightarrow \\nu)=P(\\nu \\rightarrow \\mu$)."
   ]
  },
  {
   "cell_type": "markdown",
   "metadata": {},
   "source": [
    "####Ergodicidad\n",
    "Cada estado de nuestra red puede descomponerse en regiones AB rodeadas de C. Gracias al algoritmo, estas regiones AB pueden crecer o disminuir. Debido a la elección al azar, podemos llegar a un estado de la red completamente AB en un número finito de pasos. Además, estos pasos son reversibles. Hay 6 distintos estados de la red completamente AB y se puede llegar de uno a otro en un número finito de pasos (basta cambiar el color de uno solo por C, el otro no se afecta)."
   ]
  },
  {
   "cell_type": "markdown",
   "metadata": {},
   "source": [
    "Las siguientes funciones son para implementar el método de los tres colores."
   ]
  },
  {
   "cell_type": "markdown",
   "metadata": {},
   "source": [
    "La función conf_i genera una configuración inicial que cumple con las reglas del hielo, es decir, no hay colores repetidos a primeros vecinos. Como nuestro algoritmo es ergódico, desde ésta configuración \"cíclica\" se puede llegar a cualquier otra configuración que cumpla con las reglas del hielo."
   ]
  },
  {
   "cell_type": "code",
   "execution_count": 241,
   "metadata": {
    "collapsed": false
   },
   "outputs": [],
   "source": [
    "using PyPlot"
   ]
  },
  {
   "cell_type": "code",
   "execution_count": 2,
   "metadata": {
    "collapsed": false
   },
   "outputs": [
    {
     "data": {
      "text/plain": [
       "conf_i (generic function with 1 method)"
      ]
     },
     "execution_count": 2,
     "metadata": {},
     "output_type": "execute_result"
    }
   ],
   "source": [
    "function conf_i(n::Int,m::Int)\n",
    "    out=zeros(n,n)\n",
    "    out[1,1]=rand(0:2)\n",
    "    for i in 1:n-1\n",
    "        for j in 1:n-1\n",
    "            out[i,j+1]=mod(out[i,j]+1,3)\n",
    "        end\n",
    "        out[i+1,:]=mod(out[i,:]+1,3)\n",
    "    end\n",
    "    \n",
    "    #cuando n es 1 mod 3, hay problemas con las reglas de hielo\n",
    "    if mod(n,3)==1\n",
    "        out[:,n]=mod(out[:,1]+1,3)\n",
    "        out[n,:]=mod(out[1,:]+1,3)\n",
    "        out[n,n]=mod(out[1,1]+2,3)\n",
    "    end\n",
    "    out\n",
    "end"
   ]
  },
  {
   "cell_type": "code",
   "execution_count": 3,
   "metadata": {
    "collapsed": false
   },
   "outputs": [
    {
     "data": {
      "text/plain": [
       "Single_cluster (generic function with 1 method)"
      ]
     },
     "execution_count": 3,
     "metadata": {},
     "output_type": "execute_result"
    }
   ],
   "source": [
    "function Single_cluster(arreglo::Array{Float64,2})\n",
    "    L2=length(arreglo[1,:])\n",
    "    L1=length(arreglo[:,1])\n",
    "    red_bool=trues(L1,L2)\n",
    "    #Se escoge un cuadrado al azar entre toda la red, y su número es escogido como 'colorA'\n",
    "    i=rand(1:L1)\n",
    "    j=rand(1:L2)\n",
    "    colorA=arreglo[i,j]\n",
    "    #Se escoge al azar un 'colorB' entre los restantes\n",
    "    colorB=mod(rand(colorA+1:colorA+2),3)\n",
    "    index_i=[i]\n",
    "    index_j=[j]\n",
    "    #Cambio el color de la celda inicial\n",
    "    arreglo[i,j]=colorB\n",
    "    red_bool[i,j]=false\n",
    "    test=false\n",
    "    t_limit=L1*2\n",
    "    t=1\n",
    "    while t<t_limit\n",
    "        new_index_i=Int[]\n",
    "        new_index_j=Int[]\n",
    "        for n=1:length(index_i)\n",
    "            for ii=0:1\n",
    "                inew=mod1(index_i[n]+ii*2-1,L1)\n",
    "                jnew=mod1(index_j[n]+ii*2-1,L2)\n",
    "                if arreglo[inew,index_j[n]]==colorA && red_bool[inew,index_j[n]]==true\n",
    "                    push!(new_index_i,inew)\n",
    "                    push!(new_index_j,index_j[n])\n",
    "                    red_bool[inew,index_j[n]]=false\n",
    "                    arreglo[inew,index_j[n]]=colorB\n",
    "                    test=true\n",
    "                end\n",
    "                if arreglo[inew,index_j[n]]==colorB && red_bool[inew,index_j[n]]==true\n",
    "                    push!(new_index_i,inew)\n",
    "                    push!(new_index_j,index_j[n])\n",
    "                    red_bool[inew,index_j[n]]=false\n",
    "                    arreglo[inew,index_j[n]]=colorA\n",
    "                    test=true\n",
    "                end\n",
    "                if arreglo[index_i[n],jnew]==colorA && red_bool[index_i[n],jnew]==true\n",
    "                    push!(new_index_i,index_i[n])\n",
    "                    push!(new_index_j,jnew)\n",
    "                    red_bool[index_i[n],jnew]=false\n",
    "                    arreglo[index_i[n],jnew]=colorB\n",
    "                    test=true\n",
    "                end\n",
    "                if arreglo[index_i[n],jnew]==colorB && red_bool[index_i[n],jnew]==true\n",
    "                    push!(new_index_i,index_i[n])\n",
    "                    push!(new_index_j,jnew)\n",
    "                    red_bool[index_i[n],jnew]=false\n",
    "                    arreglo[index_i[n],jnew]=colorA\n",
    "                    test=true\n",
    "                end\n",
    "            end\n",
    "        end\n",
    "        index_i=deepcopy(new_index_i)\n",
    "        index_j=deepcopy(new_index_j)\n",
    "        if test==false\n",
    "            #println(\"there are no more squares to add\")\n",
    "            t=t_limit\n",
    "        end\n",
    "        test=false\n",
    "    end\n",
    "    return arreglo\n",
    "end"
   ]
  },
  {
   "cell_type": "code",
   "execution_count": 4,
   "metadata": {
    "collapsed": false,
    "scrolled": true
   },
   "outputs": [
    {
     "data": {
      "image/png": "[encoded data removed]",
      "text/plain": [
       "Figure(PyObject <matplotlib.figure.Figure object at 0x7f9a4a032c50>)"
      ]
     },
     "metadata": {},
     "output_type": "display_data"
    },
    {
     "data": {
      "text/plain": [
       "PyObject <matplotlib.collections.QuadMesh object at 0x7f9a52206a90>"
      ]
     },
     "execution_count": 4,
     "metadata": {},
     "output_type": "execute_result"
    }
   ],
   "source": [
    "hey=conf_i(5,5)\n",
    "fig=figure(figsize=[3,3])\n",
    "pcolormesh(hey)"
   ]
  },
  {
   "cell_type": "code",
   "execution_count": 5,
   "metadata": {
    "collapsed": false
   },
   "outputs": [
    {
     "data": {
      "text/plain": [
       "SingleCluster (generic function with 1 method)"
      ]
     },
     "execution_count": 5,
     "metadata": {},
     "output_type": "execute_result"
    }
   ],
   "source": [
    "function SingleCluster(arreglo::Array{Float64,2},red_bool,i,j,colorA, colorB)\n",
    "    L2=length(arreglo[1,:])\n",
    "    L1=length(arreglo[:,1])\n",
    "    #red_bool=trues(L1,L2)\n",
    "    arreglo_old=deepcopy(arreglo)\n",
    "    if arreglo[i,j]==colorA\n",
    "        arreglo[i,j]=colorB\n",
    "    else\n",
    "        arreglo[i,j]=colorA\n",
    "    end\n",
    "    index_i=[i]\n",
    "    index_j=[j]\n",
    "    red_bool[i,j]=false\n",
    "    test=false\n",
    "    t_limit=max(L1,L2)\n",
    "    t=1\n",
    "    while t<t_limit\n",
    "        new_index_i=Int[]\n",
    "        new_index_j=Int[]\n",
    "        for n=1:length(index_i)\n",
    "            for ii=0:1\n",
    "                inew=mod1(index_i[n]+ii*2-1,L1)\n",
    "                jnew=mod1(index_j[n]+ii*2-1,L2)\n",
    "                if arreglo[inew,index_j[n]]==colorA && red_bool[inew,index_j[n]]==true\n",
    "                    push!(new_index_i,inew)\n",
    "                    push!(new_index_j,index_j[n])\n",
    "                    red_bool[inew,index_j[n]]=false\n",
    "                    arreglo[inew,index_j[n]]=colorB\n",
    "                    test=true\n",
    "                end\n",
    "                if arreglo[inew,index_j[n]]==colorB && red_bool[inew,index_j[n]]==true\n",
    "                    push!(new_index_i,inew)\n",
    "                    push!(new_index_j,index_j[n])\n",
    "                    red_bool[inew,index_j[n]]=false\n",
    "                    arreglo[inew,index_j[n]]=colorA\n",
    "                    test=true\n",
    "                end\n",
    "                if arreglo[index_i[n],jnew]==colorA && red_bool[index_i[n],jnew]==true\n",
    "                    push!(new_index_i,index_i[n])\n",
    "                    push!(new_index_j,jnew)\n",
    "                    red_bool[index_i[n],jnew]=false\n",
    "                    arreglo[index_i[n],jnew]=colorB\n",
    "                    test=true\n",
    "                end\n",
    "                if arreglo[index_i[n],jnew]==colorB && red_bool[index_i[n],jnew]==true\n",
    "                    push!(new_index_i,index_i[n])\n",
    "                    push!(new_index_j,jnew)\n",
    "                    red_bool[index_i[n],jnew]=false\n",
    "                    arreglo[index_i[n],jnew]=colorA\n",
    "                    test=true\n",
    "                end\n",
    "            end\n",
    "        end\n",
    "        index_i=deepcopy(new_index_i)\n",
    "        index_j=deepcopy(new_index_j)\n",
    "        if test==false\n",
    "            t=t_limit\n",
    "        end\n",
    "        test=false\n",
    "    end\n",
    "    #Se escoge con 50% si se cambian o no los colores de este nuevo cluster \n",
    "    if rand()<0.5\n",
    "        #println(\":C\")\n",
    "        return arreglo_old,red_bool\n",
    "    else\n",
    "        return arreglo,red_bool\n",
    "    end\n",
    "end"
   ]
  },
  {
   "cell_type": "code",
   "execution_count": 6,
   "metadata": {
    "collapsed": false
   },
   "outputs": [
    {
     "data": {
      "text/plain": [
       "Update! (generic function with 1 method)"
      ]
     },
     "execution_count": 6,
     "metadata": {},
     "output_type": "execute_result"
    }
   ],
   "source": [
    "function Update!(red_bool,red_bool_dummy)\n",
    "    L2=length(red_bool[1,:])\n",
    "    L1=length(red_bool[:,1])\n",
    "    for i in 1:L1\n",
    "        for j in 1:L2\n",
    "            if red_bool_dummy[i,j]==false\n",
    "                red_bool[i,j]=false\n",
    "            end\n",
    "        end\n",
    "    end\n",
    "    #return red_bool\n",
    "end"
   ]
  },
  {
   "cell_type": "code",
   "execution_count": 7,
   "metadata": {
    "collapsed": false
   },
   "outputs": [
    {
     "data": {
      "text/plain": [
       "MultiCluster (generic function with 1 method)"
      ]
     },
     "execution_count": 7,
     "metadata": {},
     "output_type": "execute_result"
    }
   ],
   "source": [
    "function MultiCluster(arreglo)\n",
    "    L2=length(arreglo[1,:])\n",
    "    L1=length(arreglo[:,1])\n",
    "    red_bool=trues(L1,L2)\n",
    "    #hey=[]\n",
    "    #Se escoge al azar dos colores\n",
    "    colorA=rand(0:2)\n",
    "    colorB=mod(rand(colorA+1:colorA+2),3)\n",
    "    for i in 1:L1\n",
    "        for j in 1:L2\n",
    "            if red_bool[i,j]==true\n",
    "                if arreglo[i,j]==colorA || arreglo[i,j]==colorB\n",
    "                    arreglo,red_bool_dummy=SingleCluster(arreglo,red_bool,i,j,colorA,colorB)\n",
    "                    Update!(red_bool,red_bool_dummy)\n",
    "                end\n",
    "            end\n",
    "        end\n",
    "    end\n",
    "    return arreglo\n",
    "end"
   ]
  },
  {
   "cell_type": "code",
   "execution_count": 351,
   "metadata": {
    "collapsed": false
   },
   "outputs": [
    {
     "data": {
      "image/png": "[encoded data removed]",
      "text/plain": [
       "Figure(PyObject <matplotlib.figure.Figure object at 0x7f9a2aa72490>)"
      ]
     },
     "metadata": {},
     "output_type": "display_data"
    },
    {
     "data": {
      "text/plain": [
       "PyObject <matplotlib.collections.QuadMesh object at 0x7f9a2bd19750>"
      ]
     },
     "execution_count": 351,
     "metadata": {},
     "output_type": "execute_result"
    }
   ],
   "source": [
    "hey_old=conf_i(20,20)\n",
    "hey=copy(hey_old)\n",
    "for t in 1:1000\n",
    "    hey_new=MultiCluster(hey_old)\n",
    "    hey_new,hey_old=hey_old,hey_new\n",
    "end\n",
    "figure(figsize=[8,4])\n",
    "subplot(1,2,1)\n",
    "#figure(figsize=[3,3])\n",
    "pcolormesh(hey)\n",
    "\n",
    "subplot(1,2,2)\n",
    "pcolormesh(hey_old)"
   ]
  },
  {
   "cell_type": "markdown",
   "metadata": {
    "collapsed": true
   },
   "source": [
    "#Energías"
   ]
  },
  {
   "cell_type": "markdown",
   "metadata": {},
   "source": [
    "Existen muchos modelos energéticos para el arreglo de los Hidrógenos en los Oxígenos. Trabajaremos con el modelo $F$ que favorece los arreglos simétricos. Para el modelo de 3 colores, esto se traduce en parejas de segundos vecinos (diagonales) del mismo color. El hamiltoniano se transforma entonces:\n",
    "$$H=-\\epsilon \\sum \\limits_{[i,j]}(\\delta_{c_ic_j} - \\frac{1}{2})=N\\epsilon - \\epsilon \\sum \\limits_{[i,j]}\\delta_{c_ic_j}$$"
   ]
  },
  {
   "cell_type": "markdown",
   "metadata": {},
   "source": [
    "El algoritmo entonces para crear clusters que favorezcan parejas de segundos vecinos del mismo color dependiente de la temperatura será:\n",
    "1. Escogemos un cuadro de toda la red como semilla de nuestro cluster. Este cuadro tiene color A.\n",
    "2. Escogemos un segundo color de las otras dos posibilidades, lo llamamos color B.\n",
    "3. Empezando de nuestra semilla, formamos un cluster de cuadros añadiendo todos los primeros vecinos que tengan color A o color B, pero además ahora incluiremos con probablidad $P_{add}(T)$ a los segundos vecinos del cuadro $i$ que ya está en el cluster con la condición que tengan el mismo color que $i$.\n",
    "4. Los colores A y B de todos los cuadros del cluster son intercambiados."
   ]
  },
  {
   "cell_type": "markdown",
   "metadata": {},
   "source": [
    "$$P_{add}=1-e^{-\\beta \\epsilon}$$"
   ]
  },
  {
   "cell_type": "code",
   "execution_count": 8,
   "metadata": {
    "collapsed": false
   },
   "outputs": [
    {
     "data": {
      "text/plain": [
       "segundos_vecinos (generic function with 1 method)"
      ]
     },
     "execution_count": 8,
     "metadata": {},
     "output_type": "execute_result"
    }
   ],
   "source": [
    "function segundos_vecinos(arreglo::Array{Float64,2},i,j)\n",
    "    L1=length(arreglo[:,1])\n",
    "    L2=length(arreglo[1,:])\n",
    "    arreglo[mod1(i-1,L1),mod1(j-1,L2)],arreglo[mod1(i-1,L1),mod1(j+1,L2)],arreglo[mod1(i+1,L1),mod1(j-1,L2)],arreglo[mod1(i+1,L1),mod1(j+1,L2)]\n",
    "end"
   ]
  },
  {
   "cell_type": "code",
   "execution_count": 9,
   "metadata": {
    "collapsed": false
   },
   "outputs": [
    {
     "data": {
      "text/plain": [
       "indices_segundos (generic function with 1 method)"
      ]
     },
     "execution_count": 9,
     "metadata": {},
     "output_type": "execute_result"
    }
   ],
   "source": [
    "function indices_segundos(ij,i,j,L1,L2)\n",
    "    if ij==1\n",
    "        return mod1(i-1,L1),mod1(j-1,L2)\n",
    "        elseif ij==2\n",
    "        return mod1(i-1,L1),mod1(j+1,L2)\n",
    "        elseif ij==3\n",
    "        return mod1(i+1,L1),mod1(j-1,L2)\n",
    "        elseif ij==4\n",
    "        return mod1(i+1,L1),mod1(j+1,L2)\n",
    "    end\n",
    "end"
   ]
  },
  {
   "cell_type": "code",
   "execution_count": 10,
   "metadata": {
    "collapsed": false
   },
   "outputs": [
    {
     "data": {
      "text/plain": [
       "contador_segundos (generic function with 1 method)"
      ]
     },
     "execution_count": 10,
     "metadata": {},
     "output_type": "execute_result"
    }
   ],
   "source": [
    "function contador_segundos(arreglo::Array{Float64,2})\n",
    "    L1=length(arreglo[:,1])\n",
    "    L2=length(arreglo[1,:])\n",
    "    contador=0\n",
    "    for i in 1:L1\n",
    "        for j in 1:L2\n",
    "            segundo=segundos_vecinos(arreglo,i,j)\n",
    "            for ij in 1:4\n",
    "                if segundo[ij]==arreglo[i,j]\n",
    "                    contador+=1\n",
    "                end\n",
    "            end\n",
    "        end\n",
    "    end\n",
    "    contador/2\n",
    "end"
   ]
  },
  {
   "cell_type": "code",
   "execution_count": 217,
   "metadata": {
    "collapsed": false
   },
   "outputs": [
    {
     "data": {
      "text/plain": [
       "Single_cluster_E (generic function with 2 methods)"
      ]
     },
     "execution_count": 217,
     "metadata": {},
     "output_type": "execute_result"
    }
   ],
   "source": [
    "function Single_cluster_E(β,arreglo_or::Array{Float64,2},ϵ=1.0)\n",
    "    arreglo=copy(arreglo_or)\n",
    "    L2=length(arreglo[1,:])\n",
    "    L1=length(arreglo[:,1])\n",
    "    red_bool=trues(L1,L2)\n",
    "    P_add=1-e^(-β*ϵ)\n",
    "    #Se escoge un cuadrado al azar entre toda la red, y su número es escogido como 'colorA'\n",
    "    i=rand(1:L1)\n",
    "    j=rand(1:L2)\n",
    "    colorA=arreglo[i,j]\n",
    "    #Se escoge al azar un 'colorB' entre los restantes\n",
    "    colorB=mod(rand(colorA+1:colorA+2),3)\n",
    "    index_i=[i]\n",
    "    index_j=[j]\n",
    "    colorC=3-(colorA+colorB)\n",
    "    #Cambio el color de la celda inicial\n",
    "    arreglo[i,j]=colorB\n",
    "    red_bool[i,j]=false\n",
    "    test=false\n",
    "    t_limit=L1*2\n",
    "    t=1\n",
    "    while t<t_limit\n",
    "        new_index_i=Int[]\n",
    "        new_index_j=Int[]\n",
    "        for n=1:length(index_i)\n",
    "            for ii=0:1\n",
    "                inew=mod1(index_i[n]+ii*2-1,L1)\n",
    "                jnew=mod1(index_j[n]+ii*2-1,L2)\n",
    "                if arreglo[inew,index_j[n]]==colorA && red_bool[inew,index_j[n]]==true\n",
    "                    push!(new_index_i,inew)\n",
    "                    push!(new_index_j,index_j[n])\n",
    "                    red_bool[inew,index_j[n]]=false\n",
    "                    arreglo[inew,index_j[n]]=colorB\n",
    "                    test=true\n",
    "                end\n",
    "                if arreglo[inew,index_j[n]]==colorB && red_bool[inew,index_j[n]]==true\n",
    "                    push!(new_index_i,inew)\n",
    "                    push!(new_index_j,index_j[n])\n",
    "                    red_bool[inew,index_j[n]]=false\n",
    "                    arreglo[inew,index_j[n]]=colorA\n",
    "                    test=true\n",
    "                end\n",
    "                if arreglo[index_i[n],jnew]==colorA && red_bool[index_i[n],jnew]==true\n",
    "                    push!(new_index_i,index_i[n])\n",
    "                    push!(new_index_j,jnew)\n",
    "                    red_bool[index_i[n],jnew]=false\n",
    "                    arreglo[index_i[n],jnew]=colorB\n",
    "                    test=true\n",
    "                end\n",
    "                if arreglo[index_i[n],jnew]==colorB && red_bool[index_i[n],jnew]==true\n",
    "                    push!(new_index_i,index_i[n])\n",
    "                    push!(new_index_j,jnew)\n",
    "                    red_bool[index_i[n],jnew]=false\n",
    "                    arreglo[index_i[n],jnew]=colorA\n",
    "                    test=true\n",
    "                end\n",
    "            end\n",
    "            #Segundos vecinos\n",
    "            segundo=segundos_vecinos(arreglo,index_i[n],index_j[n])\n",
    "            for ij in 1:4\n",
    "                ii_new=indices_segundos(ij,index_i[n],index_j[n],L1,L2)[1]\n",
    "                jj_new=indices_segundos(ij,index_i[n],index_j[n],L1,L2)[2]\n",
    "                if segundo[ij] !=arreglo[index_i[n],index_j[n]] && segundo[ij] !=colorC && red_bool[ii_new,jj_new]==true\n",
    "                    if rand()<P_add\n",
    "                        push!(new_index_i,ii_new)\n",
    "                        push!(new_index_j,jj_new)\n",
    "                        red_bool[ii_new,jj_new]=false\n",
    "                        if arreglo[index_i[n],index_j[n]]==colorA\n",
    "                                arreglo[ii_new,jj_new]=colorA\n",
    "                        else\n",
    "                                arreglo[ii_new,jj_new]=colorB\n",
    "                        end\n",
    "                        test=true\n",
    "                    end\n",
    "                end\n",
    "            end\n",
    "        end\n",
    "        index_i=deepcopy(new_index_i)\n",
    "        index_j=deepcopy(new_index_j)\n",
    "        if test==false\n",
    "            #println(\"there are no more squares to add\")\n",
    "            t=t_limit\n",
    "        end\n",
    "        test=false\n",
    "    end\n",
    "    return arreglo\n",
    "end"
   ]
  },
  {
   "cell_type": "code",
   "execution_count": 12,
   "metadata": {
    "collapsed": false
   },
   "outputs": [
    {
     "data": {
      "image/png": "[encoded data removed]",
      "text/plain": [
       "Figure(PyObject <matplotlib.figure.Figure object at 0x7f9a4ec2d790>)"
      ]
     },
     "metadata": {},
     "output_type": "display_data"
    },
    {
     "data": {
      "text/plain": [
       "PyObject <matplotlib.collections.QuadMesh object at 0x7f9a34d8ad90>"
      ]
     },
     "execution_count": 12,
     "metadata": {},
     "output_type": "execute_result"
    }
   ],
   "source": [
    "inicial_s=conf_i(20,20)\n",
    "old=copy(inicial_s)\n",
    "for t in 1:10\n",
    "    new=Single_cluster_E(1000.0,old)\n",
    "    new,old=old,new\n",
    "end\n",
    "figure(figsize=[8,4])\n",
    "subplot(1,2,1)\n",
    "#figure(figsize=[3,3])\n",
    "pcolormesh(inicial_s)\n",
    "\n",
    "subplot(1,2,2)\n",
    "pcolormesh(old)"
   ]
  },
  {
   "cell_type": "code",
   "execution_count": 14,
   "metadata": {
    "collapsed": false
   },
   "outputs": [
    {
     "data": {
      "text/plain": [
       "(400.0,712.0)"
      ]
     },
     "execution_count": 14,
     "metadata": {},
     "output_type": "execute_result"
    }
   ],
   "source": [
    "contador_segundos(inicial_s),contador_segundos(old)"
   ]
  },
  {
   "cell_type": "code",
   "execution_count": 15,
   "metadata": {
    "collapsed": false
   },
   "outputs": [
    {
     "name": "stdout",
     "output_type": "stream",
     "text": [
      "elapsed time: 67.850660394 seconds (7705110640 bytes allocated, 19.71% gc time)\n"
     ]
    }
   ],
   "source": [
    "old=conf_i(20,20)\n",
    "betas=[i*0.2 for i in 0:20]\n",
    "out=zeros(length(betas))\n",
    "@time for i in 1:length(betas)\n",
    "    for t in 1:1000\n",
    "        new=Single_cluster_E(betas[i],old)\n",
    "        old,new=new,old\n",
    "    end\n",
    "    out[i]=contador_segundos(old)\n",
    "end"
   ]
  },
  {
   "cell_type": "code",
   "execution_count": 39,
   "metadata": {
    "collapsed": false
   },
   "outputs": [
    {
     "data": {
      "image/png": "[encoded data removed]",
      "text/plain": [
       "Figure(PyObject <matplotlib.figure.Figure object at 0x7fc490409dd0>)"
      ]
     },
     "metadata": {},
     "output_type": "display_data"
    },
    {
     "data": {
      "text/plain": [
       "1-element Array{Any,1}:\n",
       " PyObject <matplotlib.lines.Line2D object at 0x7fc4900c1e50>"
      ]
     },
     "execution_count": 39,
     "metadata": {},
     "output_type": "execute_result"
    }
   ],
   "source": [
    "title(\"Número de segundos vecinos con el mismo color como función de la temperatura, L=20\")\n",
    "xlabel(L\"$\\beta$\")\n",
    "ylabel(\"Cuentas\")\n",
    "plot(betas,out)"
   ]
  },
  {
   "cell_type": "markdown",
   "metadata": {},
   "source": [
    "###A medida que la temperatura baja, vemos que es más fácil aceptar los cambios y el número de segundos vecinos con el mismo color tiende a su máximo de 2N"
   ]
  },
  {
   "cell_type": "code",
   "execution_count": 22,
   "metadata": {
    "collapsed": true
   },
   "outputs": [],
   "source": [
    "old=conf_i(30,30)\n",
    "inicial=copy(old)\n",
    "for t in 1:1000\n",
    "    new=Single_cluster_E(0.1,old)\n",
    "    old,new=new,old\n",
    "end"
   ]
  },
  {
   "cell_type": "code",
   "execution_count": 23,
   "metadata": {
    "collapsed": false
   },
   "outputs": [
    {
     "data": {
      "image/png": "[encoded data removed]",
      "text/plain": [
       "Figure(PyObject <matplotlib.figure.Figure object at 0x7f26303dc610>)"
      ]
     },
     "metadata": {},
     "output_type": "display_data"
    },
    {
     "data": {
      "text/plain": [
       "PyObject <matplotlib.collections.QuadMesh object at 0x7f262fba1a10>"
      ]
     },
     "execution_count": 23,
     "metadata": {},
     "output_type": "execute_result"
    }
   ],
   "source": [
    "figure(figsize=[8,6])\n",
    "subplot(1,2,1)\n",
    "#figure(figsize=[3,3])\n",
    "pcolormesh(inicial)\n",
    "\n",
    "subplot(1,2,2)\n",
    "pcolormesh(old)"
   ]
  },
  {
   "cell_type": "markdown",
   "metadata": {},
   "source": [
    "#A partir de aquí las cosas funcionan tan bien, multicluster."
   ]
  },
  {
   "cell_type": "code",
   "execution_count": 47,
   "metadata": {
    "collapsed": false
   },
   "outputs": [
    {
     "data": {
      "text/plain": [
       "conf_random (generic function with 2 methods)"
      ]
     },
     "execution_count": 47,
     "metadata": {},
     "output_type": "execute_result"
    }
   ],
   "source": [
    "function conf_random(L1::Int,L2::Int,pasos=30)\n",
    "    old=conf_i(L1,L2)\n",
    "    for t in 1:pasos\n",
    "        new=MultiCluster(old)\n",
    "        new,old=old,new\n",
    "    end\n",
    "    old\n",
    "end"
   ]
  },
  {
   "cell_type": "code",
   "execution_count": 17,
   "metadata": {
    "collapsed": false
   },
   "outputs": [
    {
     "data": {
      "text/plain": [
       "SingleCluster_E (generic function with 2 methods)"
      ]
     },
     "execution_count": 17,
     "metadata": {},
     "output_type": "execute_result"
    }
   ],
   "source": [
    "function SingleCluster_E(β,arreglo::Array{Float64,2},red_bool,i,j,colorA,colorB,colorC,ϵ=1.0)\n",
    "    L2=length(arreglo[1,:])\n",
    "    L1=length(arreglo[:,1])\n",
    "    P_add=1-e^(-β*ϵ)\n",
    "    arreglo_old=copy(arreglo)\n",
    "    if arreglo[i,j]==colorA\n",
    "        arreglo[i,j]=colorB\n",
    "    else\n",
    "        arreglo[i,j]=colorA\n",
    "    end\n",
    "    index_i=[i]\n",
    "    index_j=[j]\n",
    "    red_bool[i,j]=false\n",
    "    test=false\n",
    "    t_limit=max(L1,L2)\n",
    "    t=1\n",
    "    while t<t_limit\n",
    "        new_index_i=Int[]\n",
    "        new_index_j=Int[]\n",
    "        for n=1:length(index_i)\n",
    "            for ii=0:1\n",
    "                inew=mod1(index_i[n]+ii*2-1,L1)\n",
    "                jnew=mod1(index_j[n]+ii*2-1,L2)\n",
    "                if arreglo[inew,index_j[n]]==colorA && red_bool[inew,index_j[n]]==true\n",
    "                    push!(new_index_i,inew)\n",
    "                    push!(new_index_j,index_j[n])\n",
    "                    red_bool[inew,index_j[n]]=false\n",
    "                    arreglo[inew,index_j[n]]=colorB\n",
    "                    test=true\n",
    "                end\n",
    "                if arreglo[inew,index_j[n]]==colorB && red_bool[inew,index_j[n]]==true\n",
    "                    push!(new_index_i,inew)\n",
    "                    push!(new_index_j,index_j[n])\n",
    "                    red_bool[inew,index_j[n]]=false\n",
    "                    arreglo[inew,index_j[n]]=colorA\n",
    "                    test=true\n",
    "                end\n",
    "                if arreglo[index_i[n],jnew]==colorA && red_bool[index_i[n],jnew]==true\n",
    "                    push!(new_index_i,index_i[n])\n",
    "                    push!(new_index_j,jnew)\n",
    "                    red_bool[index_i[n],jnew]=false\n",
    "                    arreglo[index_i[n],jnew]=colorB\n",
    "                    test=true\n",
    "                end\n",
    "                if arreglo[index_i[n],jnew]==colorB && red_bool[index_i[n],jnew]==true\n",
    "                    push!(new_index_i,index_i[n])\n",
    "                    push!(new_index_j,jnew)\n",
    "                    red_bool[index_i[n],jnew]=false\n",
    "                    arreglo[index_i[n],jnew]=colorA\n",
    "                    test=true\n",
    "                end\n",
    "            end\n",
    "            segundo=segundos_vecinos(arreglo,index_i[n],index_j[n])\n",
    "            for ij in 1:4\n",
    "                ii_new=indices_segundos(ij,index_i[n],index_j[n],L1,L2)[1]\n",
    "                jj_new=indices_segundos(ij,index_i[n],index_j[n],L1,L2)[2]\n",
    "                if segundo[ij] !=arreglo[index_i[n],index_j[n]] && segundo[ij] !=colorC && red_bool[ii_new,jj_new]==true\n",
    "                    if rand()<P_add\n",
    "                    #println(\"aceptó\")\n",
    "                        push!(new_index_i,ii_new)\n",
    "                        push!(new_index_j,jj_new)\n",
    "                        red_bool[ii_new,jj_new]=false\n",
    "                        if arreglo[index_i[n],index_j[n]]==colorA\n",
    "                                arreglo[ii_new,jj_new]=colorA\n",
    "                        else\n",
    "                                arreglo[ii_new,jj_new]=colorB\n",
    "                        end\n",
    "                        test=true\n",
    "                    end\n",
    "                end\n",
    "            end\n",
    "        end\n",
    "        index_i=deepcopy(new_index_i)\n",
    "        index_j=deepcopy(new_index_j)\n",
    "        if test==false\n",
    "            t=t_limit\n",
    "        end\n",
    "        test=false\n",
    "    end\n",
    "    if rand()<0.5\n",
    "        #println(\":C\")\n",
    "        return arreglo_old,red_bool\n",
    "    else\n",
    "        return arreglo,red_bool\n",
    "    end\n",
    "end"
   ]
  },
  {
   "cell_type": "code",
   "execution_count": 219,
   "metadata": {
    "collapsed": false
   },
   "outputs": [
    {
     "data": {
      "text/plain": [
       "MultiCluster_E (generic function with 2 methods)"
      ]
     },
     "execution_count": 219,
     "metadata": {},
     "output_type": "execute_result"
    }
   ],
   "source": [
    "function MultiCluster_E(β,arreglo_or,ϵ=1.0)\n",
    "    arreglo=copy(arreglo_or)\n",
    "    L2=length(arreglo[1,:])\n",
    "    L1=length(arreglo[:,1])\n",
    "    red_bool=trues(L1,L2)\n",
    "    #Se escoge al azar dos colores\n",
    "    colorA=rand(0:2)\n",
    "    colorB=mod(rand(colorA+1:colorA+2),3)\n",
    "    colorC=3-(colorA+colorB)\n",
    "    for i in 1:L1\n",
    "        for j in 1:L2\n",
    "            if red_bool[i,j]==true\n",
    "                if arreglo[i,j]==colorA || arreglo[i,j]==colorB\n",
    "                    arreglo,red_bool_dummy=SingleCluster_E(β,arreglo,red_bool,i,j,colorA,colorB,colorC)\n",
    "                    Update!(red_bool,red_bool_dummy)\n",
    "                end\n",
    "            end\n",
    "        end\n",
    "    end\n",
    "    return arreglo\n",
    "end"
   ]
  },
  {
   "cell_type": "markdown",
   "metadata": {},
   "source": [
    "####Si se usara como distribución inicial, las diagonales"
   ]
  },
  {
   "cell_type": "code",
   "execution_count": 54,
   "metadata": {
    "collapsed": false
   },
   "outputs": [
    {
     "data": {
      "image/png": "[encoded data removed]",
      "text/plain": [
       "Figure(PyObject <matplotlib.figure.Figure object at 0x7f262dde6710>)"
      ]
     },
     "metadata": {},
     "output_type": "display_data"
    },
    {
     "data": {
      "text/plain": [
       "PyObject <matplotlib.collections.QuadMesh object at 0x7f262dd0b890>"
      ]
     },
     "execution_count": 54,
     "metadata": {},
     "output_type": "execute_result"
    }
   ],
   "source": [
    "inicial=conf_i(20,20)\n",
    "old=copy(inicial)\n",
    "for t in 1:2\n",
    "    new=MultiCluster_E(1000.0,old)\n",
    "    new,old=old,new\n",
    "end\n",
    "figure(figsize=[6,3])\n",
    "subplot(1,2,1)\n",
    "#figure(figsize=[3,3])\n",
    "pcolormesh(inicial)\n",
    "\n",
    "subplot(1,2,2)\n",
    "pcolormesh(old)"
   ]
  },
  {
   "cell_type": "markdown",
   "metadata": {},
   "source": [
    "####Hasta converge \"endiabladamente\" rápido"
   ]
  },
  {
   "cell_type": "code",
   "execution_count": 60,
   "metadata": {
    "collapsed": false
   },
   "outputs": [
    {
     "data": {
      "image/png": "[encoded data removed]",
      "text/plain": [
       "Figure(PyObject <matplotlib.figure.Figure object at 0x7f262d635c10>)"
      ]
     },
     "metadata": {},
     "output_type": "display_data"
    },
    {
     "data": {
      "text/plain": [
       "PyObject <matplotlib.collections.QuadMesh object at 0x7f262d350210>"
      ]
     },
     "execution_count": 60,
     "metadata": {},
     "output_type": "execute_result"
    }
   ],
   "source": [
    "inicial=conf_i(20,20)\n",
    "old=copy(inicial)\n",
    "for t in 1:20\n",
    "    new=MultiCluster_E(1000.0,old)\n",
    "    new,old=old,new\n",
    "end\n",
    "figure(figsize=[6,3])\n",
    "subplot(1,2,1)\n",
    "#figure(figsize=[3,3])\n",
    "pcolormesh(inicial)\n",
    "\n",
    "subplot(1,2,2)\n",
    "pcolormesh(old)"
   ]
  },
  {
   "cell_type": "markdown",
   "metadata": {},
   "source": [
    "##Usando como configuración inicial una configuración procesada por Multicluster sin energía después de 50 pasos:"
   ]
  },
  {
   "cell_type": "code",
   "execution_count": 46,
   "metadata": {
    "collapsed": false
   },
   "outputs": [],
   "source": [
    "inicial=conf_random(100,100);"
   ]
  },
  {
   "cell_type": "code",
   "execution_count": 54,
   "metadata": {
    "collapsed": false,
    "scrolled": true
   },
   "outputs": [
    {
     "data": {
      "image/png": "[encoded data removed]",
      "text/plain": [
       "Figure(PyObject <matplotlib.figure.Figure object at 0x7f9a30dd8f90>)"
      ]
     },
     "metadata": {},
     "output_type": "display_data"
    },
    {
     "data": {
      "text/plain": [
       "PyObject <matplotlib.collections.QuadMesh object at 0x7f9a304564d0>"
      ]
     },
     "execution_count": 54,
     "metadata": {},
     "output_type": "execute_result"
    }
   ],
   "source": [
    "old_M=copy(inicial)\n",
    "for t in 1:10\n",
    "    new=MultiCluster_E(1.0,old_M)\n",
    "    new,old_M=old_M,new\n",
    "end\n",
    "\n",
    "figure(figsize=[8,4])\n",
    "subplot(1,2,1)\n",
    "#figure(figsize=[3,3])\n",
    "pcolormesh(inicial)\n",
    "\n",
    "subplot(1,2,2)\n",
    "pcolormesh(old_M)"
   ]
  },
  {
   "cell_type": "code",
   "execution_count": 55,
   "metadata": {
    "collapsed": false
   },
   "outputs": [
    {
     "data": {
      "image/png": "[encoded data removed]",
      "text/plain": [
       "Figure(PyObject <matplotlib.figure.Figure object at 0x7f9a304ffed0>)"
      ]
     },
     "metadata": {},
     "output_type": "display_data"
    },
    {
     "data": {
      "text/plain": [
       "PyObject <matplotlib.collections.QuadMesh object at 0x7f9a2fb06050>"
      ]
     },
     "execution_count": 55,
     "metadata": {},
     "output_type": "execute_result"
    }
   ],
   "source": [
    "old_S=copy(inicial)\n",
    "for t in 1:10\n",
    "    new=Single_cluster_E(1.0,old_S)\n",
    "    new,old_S=old_S,new\n",
    "end\n",
    "\n",
    "figure(figsize=[8,4])\n",
    "subplot(1,2,1)\n",
    "#figure(figsize=[3,3])\n",
    "pcolormesh(inicial)\n",
    "\n",
    "subplot(1,2,2)\n",
    "pcolormesh(old_S)"
   ]
  },
  {
   "cell_type": "code",
   "execution_count": 56,
   "metadata": {
    "collapsed": false
   },
   "outputs": [
    {
     "data": {
      "text/plain": [
       "(18176.0,17208.0)"
      ]
     },
     "execution_count": 56,
     "metadata": {},
     "output_type": "execute_result"
    }
   ],
   "source": [
    "contador_segundos(old_M), contador_segundos(old_S)"
   ]
  },
  {
   "cell_type": "markdown",
   "metadata": {},
   "source": [
    "##La energía estará dada por el número de segundos vecinos del mismo color:"
   ]
  },
  {
   "cell_type": "code",
   "execution_count": 335,
   "metadata": {
    "collapsed": false
   },
   "outputs": [
    {
     "data": {
      "text/plain": [
       "contadorespromedio_beta (generic function with 4 methods)"
      ]
     },
     "execution_count": 335,
     "metadata": {},
     "output_type": "execute_result"
    }
   ],
   "source": [
    "function contadorespromedio_beta(configuracion_inicial::Array{Float64,2},β_max=5.0,t_max=50,intervalos=20)\n",
    "    betas=[0:β_max/intervalos:β_max]\n",
    "    maximo=length(betas)\n",
    "    out=zeros(maximo)\n",
    "    for i in 1:maximo\n",
    "        old=copy(configuracion_inicial)\n",
    "        for t in 1:t_max\n",
    "            new=Single_cluster_E(betas[i],old)\n",
    "            out[i]+=contador_segundos(new)\n",
    "            new,old=old,new\n",
    "        end\n",
    "        out[i]=out[i]/t_max\n",
    "    end\n",
    "    out\n",
    "end"
   ]
  },
  {
   "cell_type": "code",
   "execution_count": 329,
   "metadata": {
    "collapsed": false
   },
   "outputs": [],
   "source": [
    "config=conf_random(50,50);"
   ]
  },
  {
   "cell_type": "code",
   "execution_count": 349,
   "metadata": {
    "collapsed": false
   },
   "outputs": [
    {
     "name": "stdout",
     "output_type": "stream",
     "text": [
      "elapsed time: 102.511206945 seconds (20982984424 bytes allocated, 35.25% gc time)\n"
     ]
    }
   ],
   "source": [
    "@time promedios=contadorespromedio_beta(config,2.0,200);"
   ]
  },
  {
   "cell_type": "code",
   "execution_count": 350,
   "metadata": {
    "collapsed": false
   },
   "outputs": [
    {
     "name": "stdout",
     "output_type": "stream",
     "text": [
      "[0.0,0.1,0.2,0.3,0.4,0.5,0.6,0.7,0.8,0.9,1.0,1.1,1.2,1.3,1.4,1.5,1.6,1.7,1.8,1.9,2.0]\n"
     ]
    },
    {
     "data": {
      "image/png": "[encoded data removed]",
      "text/plain": [
       "Figure(PyObject <matplotlib.figure.Figure object at 0x7f9a2ab806d0>)"
      ]
     },
     "metadata": {},
     "output_type": "display_data"
    },
    {
     "data": {
      "text/plain": [
       "1-element Array{Any,1}:\n",
       " PyObject <matplotlib.lines.Line2D object at 0x7f9a2a8b8790>"
      ]
     },
     "execution_count": 350,
     "metadata": {},
     "output_type": "execute_result"
    }
   ],
   "source": [
    "L1=L2=50\n",
    "Energias=L1*L2.-promedios\n",
    "β_max=2.0\n",
    "intervalos=20\n",
    "figure(figsize=[6,4])\n",
    "title(\"Energía promedio como función de beta para sistema de 50x50\")\n",
    "xlabel(L\"$\\beta$\")\n",
    "ylabel(\"Energía\")\n",
    "println([0:β_max/intervalos:β_max])\n",
    "plot([0:β_max/intervalos:β_max],Energias,\"o\")"
   ]
  },
  {
   "cell_type": "markdown",
   "metadata": {},
   "source": [
    "Y notamos que hay una transición de fase aproximadamente entre $\\beta=0.5$ y $1.0$."
   ]
  },
  {
   "cell_type": "markdown",
   "metadata": {},
   "source": [
    "###Veamos cómo escala el número de segundos vecinos del mismo color con el tamaño del sistema para un tiempo y temperatura fijos."
   ]
  },
  {
   "cell_type": "code",
   "execution_count": 284,
   "metadata": {
    "collapsed": false
   },
   "outputs": [
    {
     "data": {
      "text/plain": [
       "tiempo_sistema_S (generic function with 4 methods)"
      ]
     },
     "execution_count": 284,
     "metadata": {},
     "output_type": "execute_result"
    }
   ],
   "source": [
    "function tiempo_sistema_S(β,original::Array{Float64,2},t_max=1000)\n",
    "    old=copy(original)\n",
    "    t=0\n",
    "    tic()\n",
    "    while t<t_max\n",
    "        new=Single_cluster_E(β,old)\n",
    "        if abs(contador_segundos(new)-contador_segundos(old))<1.0\n",
    "            return toq()\n",
    "        end\n",
    "        new,old=old,new\n",
    "        t+=1\n",
    "    end\n",
    "end"
   ]
  },
  {
   "cell_type": "code",
   "execution_count": 267,
   "metadata": {
    "collapsed": false
   },
   "outputs": [
    {
     "data": {
      "text/plain": [
       "tiempos_S (generic function with 2 methods)"
      ]
     },
     "execution_count": 267,
     "metadata": {},
     "output_type": "execute_result"
    }
   ],
   "source": [
    "function tiempos_S(β,L_max,paso,t_promedio=10)\n",
    "    tamaños=[10:paso:L_max]\n",
    "    maximo=length(tamaños)\n",
    "    out=zeros(maximo)\n",
    "    for L in 1:maximo\n",
    "        old=conf_random(tamaños[L],tamaños[L],15)\n",
    "        for t in 1:t_promedio\n",
    "            out[L]+=tiempo_sistema_S(β,old)\n",
    "        end\n",
    "    end\n",
    "    out./t_promedio\n",
    "end"
   ]
  },
  {
   "cell_type": "code",
   "execution_count": 285,
   "metadata": {
    "collapsed": false
   },
   "outputs": [
    {
     "data": {
      "text/plain": [
       "tiempo_sistema_M (generic function with 4 methods)"
      ]
     },
     "execution_count": 285,
     "metadata": {},
     "output_type": "execute_result"
    }
   ],
   "source": [
    "function tiempo_sistema_M(β,original::Array{Float64,2},t_max=1000)\n",
    "    old=copy(original)\n",
    "    t=0\n",
    "    tic()\n",
    "    while t<t_max\n",
    "        new=MultiCluster_E(β,old)\n",
    "        if abs(contador_segundos(new)-contador_segundos(old))<1.0\n",
    "            return toq()\n",
    "        end\n",
    "        new,old=old,new\n",
    "        t+=1\n",
    "    end\n",
    "end"
   ]
  },
  {
   "cell_type": "code",
   "execution_count": 270,
   "metadata": {
    "collapsed": false
   },
   "outputs": [
    {
     "data": {
      "text/plain": [
       "tiempos_M (generic function with 2 methods)"
      ]
     },
     "execution_count": 270,
     "metadata": {},
     "output_type": "execute_result"
    }
   ],
   "source": [
    "function tiempos_M(β,L_max,paso,t_promedio=10)\n",
    "    tamaños=[10:paso:L_max]\n",
    "    maximo=length(tamaños)\n",
    "    out=zeros(maximo)\n",
    "    for L in 1:maximo\n",
    "        old=conf_random(tamaños[L],tamaños[L],15)\n",
    "        for t in 1:t_promedio\n",
    "            out[L]+=tiempo_sistema_M(β,old)\n",
    "        end\n",
    "    end\n",
    "    out./t_promedio\n",
    "end"
   ]
  },
  {
   "cell_type": "code",
   "execution_count": 332,
   "metadata": {
    "collapsed": false
   },
   "outputs": [],
   "source": [
    "old=conf_random(70,70,20);"
   ]
  },
  {
   "cell_type": "code",
   "execution_count": 334,
   "metadata": {
    "collapsed": false
   },
   "outputs": [
    {
     "data": {
      "text/plain": [
       "(0.656465882,2.175220033)"
      ]
     },
     "execution_count": 334,
     "metadata": {},
     "output_type": "execute_result"
    }
   ],
   "source": [
    "tiempo_sistema_S(1.0,old),tiempo_sistema_M(1.0,old)"
   ]
  },
  {
   "cell_type": "code",
   "execution_count": 277,
   "metadata": {
    "collapsed": false
   },
   "outputs": [
    {
     "name": "stdout",
     "output_type": "stream",
     "text": [
      "elapsed time: 20.239008436 seconds (4995601616 bytes allocated, 41.89% gc time)\n"
     ]
    },
    {
     "data": {
      "text/plain": [
       "3-element Array{Float64,1}:\n",
       " 0.00392764\n",
       " 0.57562   \n",
       " 2.87053   "
      ]
     },
     "execution_count": 277,
     "metadata": {},
     "output_type": "execute_result"
    }
   ],
   "source": [
    "@time tS=tiempos_S(0.7,110,50,2)"
   ]
  },
  {
   "cell_type": "code",
   "execution_count": 278,
   "metadata": {
    "collapsed": false
   },
   "outputs": [
    {
     "name": "stdout",
     "output_type": "stream",
     "text": [
      "elapsed time: 96.663583106 seconds (23133218312 bytes allocated, 41.86% gc time)\n"
     ]
    },
    {
     "data": {
      "text/plain": [
       "3-element Array{Float64,1}:\n",
       "  0.00266435\n",
       " 13.28      \n",
       " 28.7971    "
      ]
     },
     "execution_count": 278,
     "metadata": {},
     "output_type": "execute_result"
    }
   ],
   "source": [
    "@time tM=tiempos_M(0.7,110,50,2)"
   ]
  }
 ],
 "metadata": {
  "kernelspec": {
   "display_name": "Julia 0.3.5",
   "language": "julia",
   "name": "julia 0.3"
  },
  "language_info": {
   "name": "julia",
   "version": "0.3.5"
  }
 },
 "nbformat": 4,
 "nbformat_minor": 0
}
