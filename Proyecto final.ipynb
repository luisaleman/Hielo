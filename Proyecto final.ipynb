{
 "cells": [
  {
   "cell_type": "markdown",
   "metadata": {},
   "source": [
    "# Proyecto Final: Modelos de Hielo\n",
    "\n",
    "Luis Alemán\n",
    "\\\\ Jorge Ramírez"
   ]
  },
  {
   "cell_type": "markdown",
   "metadata": {},
   "source": [
    "Las siguientes funciones son para implementar el método de los tres colores."
   ]
  },
  {
   "cell_type": "code",
   "execution_count": 1,
   "metadata": {
    "collapsed": false
   },
   "outputs": [],
   "source": [
    "using PyPlot\n"
   ]
  },
  {
   "cell_type": "code",
   "execution_count": 2,
   "metadata": {
    "collapsed": false
   },
   "outputs": [
    {
     "data": {
      "text/html": [
       "<script charset=\"utf-8\">(function ($, undefined) {\n",
       "\n",
       "    function createElem(tag, attr, content) {\n",
       "\t// TODO: remove jQuery dependency\n",
       "\tvar el = $(\"<\" + tag + \"/>\").attr(attr);\n",
       "\tif (content) {\n",
       "\t    el.append(content);\n",
       "\t}\n",
       "\treturn el[0];\n",
       "    }\n",
       "\n",
       "    // A widget must expose an id field which identifies it to the backend,\n",
       "    // an elem attribute which is will be added to the DOM, and\n",
       "    // a getState() method which returns the value to be sent to the backend\n",
       "    // a sendUpdate() method which sends its current value to the backend\n",
       "    var Widget = {\n",
       "\tid: undefined,\n",
       "\telem: undefined,\n",
       "\tlabel: undefined,\n",
       "\tgetState: function () {\n",
       "\t    return this.elem.value;\n",
       "\t},\n",
       "\tsendUpdate: undefined\n",
       "    };\n",
       "\n",
       "    var Slider = function (typ, id, init) {\n",
       "\tvar attr = { type:  \"range\",\n",
       "\t\t     value: init.value,\n",
       "\t\t     min:   init.min,\n",
       "\t\t     max:   init.max,\n",
       "\t\t     step:  init.step },\n",
       "\t    elem = createElem(\"input\", attr),\n",
       "\t    self = this;\n",
       "\n",
       "\telem.onchange = function () {\n",
       "\t    self.sendUpdate();\n",
       "\t}\n",
       "\n",
       "\tthis.id = id;\n",
       "\tthis.elem = elem;\n",
       "\tthis.label = init.label;\n",
       "\n",
       "\tInputWidgets.commInitializer(this); // Initialize communication\n",
       "    }\n",
       "    Slider.prototype = Widget;\n",
       "\n",
       "    var Checkbox = function (typ, id, init) {\n",
       "\tvar attr = { type: \"checkbox\",\n",
       "\t\t     checked: init.value },\n",
       "\t    elem = createElem(\"input\", attr),\n",
       "\t    self = this;\n",
       "\n",
       "\tthis.getState = function () {\n",
       "\t    return elem.checked;\n",
       "\t}\n",
       "\telem.onchange = function () {\n",
       "\t    self.sendUpdate();\n",
       "\t}\n",
       "\n",
       "\tthis.id = id;\n",
       "\tthis.elem = elem;\n",
       "\tthis.label = init.label;\n",
       "\n",
       "\tInputWidgets.commInitializer(this);\n",
       "    }\n",
       "    Checkbox.prototype = Widget;\n",
       "\n",
       "    var Button = function (typ, id, init) {\n",
       "\tvar attr = { type:    \"button\",\n",
       "\t\t     value:   init.label },\n",
       "\t    elem = createElem(\"input\", attr),\n",
       "\t    self = this;\n",
       "\tthis.getState = function () {\n",
       "\t    return null;\n",
       "\t}\n",
       "\telem.onclick = function () {\n",
       "\t    self.sendUpdate();\n",
       "\t}\n",
       "\n",
       "\tthis.id = id;\n",
       "\tthis.elem = elem;\n",
       "\tthis.label = init.label;\n",
       "\n",
       "\tInputWidgets.commInitializer(this);\n",
       "    }\n",
       "    Button.prototype = Widget;\n",
       "\n",
       "    var Text = function (typ, id, init) {\n",
       "\tvar attr = { type:  \"text\",\n",
       "\t\t     placeholder: init.label,\n",
       "\t\t     value: init.value },\n",
       "\t    elem = createElem(\"input\", attr),\n",
       "\t    self = this;\n",
       "\tthis.getState = function () {\n",
       "\t    return elem.value;\n",
       "\t}\n",
       "\telem.onkeyup = function () {\n",
       "\t    self.sendUpdate();\n",
       "\t}\n",
       "\n",
       "\tthis.id = id;\n",
       "\tthis.elem = elem;\n",
       "\tthis.label = init.label;\n",
       "\n",
       "\tInputWidgets.commInitializer(this);\n",
       "    }\n",
       "    Text.prototype = Widget;\n",
       "\n",
       "    var Textarea = function (typ, id, init) {\n",
       "\tvar attr = { placeholder: init.label },\n",
       "\t    elem = createElem(\"textarea\", attr, init.value),\n",
       "\t    self = this;\n",
       "\tthis.getState = function () {\n",
       "\t    return elem.value;\n",
       "\t}\n",
       "\telem.onchange = function () {\n",
       "\t    self.sendUpdate();\n",
       "\t}\n",
       "\n",
       "\tthis.id = id;\n",
       "\tthis.elem = elem;\n",
       "\tthis.label = init.label;\n",
       "\n",
       "\tInputWidgets.commInitializer(this);\n",
       "    }\n",
       "    Textarea.prototype = Widget;\n",
       "\n",
       "    // RadioButtons\n",
       "    // Dropdown\n",
       "    // HTML\n",
       "    // Latex\n",
       "\n",
       "    var InputWidgets = {\n",
       "\tSlider: Slider,\n",
       "\tCheckbox: Checkbox,\n",
       "\tButton: Button,\n",
       "\tText: Text,\n",
       "\tTextarea: Textarea,\n",
       "\tdebug: false,\n",
       "\tlog: function () {\n",
       "\t    if (InputWidgets.debug) {\n",
       "\t\tconsole.log.apply(console, arguments);\n",
       "\t    }\n",
       "\t},\n",
       "\t// a central way to initalize communication\n",
       "\t// for widgets.\n",
       "\tcommInitializer: function (widget) {\n",
       "\t    widget.sendUpdate = function () {};\n",
       "\t}\n",
       "    };\n",
       "\n",
       "    window.InputWidgets = InputWidgets;\n",
       "\n",
       "})(jQuery, undefined);\n",
       "</script>"
      ]
     },
     "metadata": {},
     "output_type": "display_data"
    },
    {
     "data": {
      "text/html": [
       "<script charset=\"utf-8\">(function (IPython, $, _, MathJax, Widgets) {\n",
       "    $.event.special.destroyed = {\n",
       "\tremove: function(o) {\n",
       "\t    if (o.handler) {\n",
       "\t\to.handler.apply(this, arguments)\n",
       "\t    }\n",
       "\t}\n",
       "    }\n",
       "\n",
       "    var redrawValue = function (container, type, val) {\n",
       "\tvar selector = $(\"<div/>\");\n",
       "\tvar oa = new IPython.OutputArea(_.extend(selector, {\n",
       "\t    selector: selector,\n",
       "\t    prompt_area: true,\n",
       "\t    events: IPython.events,\n",
       "\t    keyboard_manager: IPython.keyboard_manager\n",
       "\t})); // Hack to work with IPython 2.1.0\n",
       "\n",
       "\tswitch (type) {\n",
       "\tcase \"image/png\":\n",
       "            var _src = 'data:' + type + ';base64,' + val;\n",
       "\t    $(container).find(\"img\").attr('src', _src);\n",
       "\t    break;\n",
       "\tdefault:\n",
       "\t    var toinsert = IPython.OutputArea.append_map[type].apply(\n",
       "\t\toa, [val, {}, selector]\n",
       "\t    );\n",
       "\t    $(container).empty().append(toinsert.contents());\n",
       "\t    selector.remove();\n",
       "\t}\n",
       "\tif (type === \"text/latex\" && MathJax) {\n",
       "\t    MathJax.Hub.Queue([\"Typeset\", MathJax.Hub, toinsert.get(0)]);\n",
       "\t}\n",
       "    }\n",
       "\n",
       "\n",
       "    $(document).ready(function() {\n",
       "\tWidgets.debug = false; // log messages etc in console.\n",
       "\tfunction initComm(evt, data) {\n",
       "\t    var comm_manager = data.kernel.comm_manager;\n",
       "        //_.extend(comm_manager.targets, require(\"widgets/js/widget\"))\n",
       "\t    comm_manager.register_target(\"Signal\", function (comm) {\n",
       "            comm.on_msg(function (msg) {\n",
       "                //Widgets.log(\"message received\", msg);\n",
       "                var val = msg.content.data.value;\n",
       "                $(\".signal-\" + comm.comm_id).each(function() {\n",
       "                var type = $(this).data(\"type\");\n",
       "                if (val[type]) {\n",
       "                    redrawValue(this, type, val[type], type);\n",
       "                }\n",
       "                });\n",
       "                delete val;\n",
       "                delete msg.content.data.value;\n",
       "            });\n",
       "\t    });\n",
       "\n",
       "\t    // coordingate with Comm and redraw Signals\n",
       "\t    // XXX: Test using Reactive here to improve performance\n",
       "\t    $([IPython.events]).on(\n",
       "\t\t'output_appended.OutputArea', function (event, type, value, md, toinsert) {\n",
       "\t\t    if (md && md.reactive) {\n",
       "                // console.log(md.comm_id);\n",
       "                toinsert.addClass(\"signal-\" + md.comm_id);\n",
       "                toinsert.data(\"type\", type);\n",
       "                // Signal back indicating the mimetype required\n",
       "                var comm_manager = IPython.notebook.kernel.comm_manager;\n",
       "                var comm = comm_manager.comms[md.comm_id];\n",
       "                comm.then(function (c) {\n",
       "                    c.send({action: \"subscribe_mime\",\n",
       "                       mime: type});\n",
       "                    toinsert.bind(\"destroyed\", function() {\n",
       "                        c.send({action: \"unsubscribe_mime\",\n",
       "                               mime: type});\n",
       "                    });\n",
       "                })\n",
       "\t\t    }\n",
       "\t    });\n",
       "\t}\n",
       "\n",
       "\ttry {\n",
       "\t    // try to initialize right away. otherwise, wait on the status_started event.\n",
       "\t    initComm(undefined, IPython.notebook);\n",
       "\t} catch (e) {\n",
       "\t    $([IPython.events]).on('status_started.Kernel', initComm);\n",
       "\t}\n",
       "    });\n",
       "})(IPython, jQuery, _, MathJax, InputWidgets);\n",
       "</script>"
      ]
     },
     "metadata": {},
     "output_type": "display_data"
    }
   ],
   "source": [
    "using Interact"
   ]
  },
  {
   "cell_type": "markdown",
   "metadata": {},
   "source": [
    "La función conf_i genera una configuración inicial que cumple con las reglas del hielo, es decir, no hay colores repetidos a primeros vecinos. Como nuestro algoritmo es ergódico, desde ésta configuración \"cíclica\" se puede llegar a cualquier otra configuración que cumpla con las reglas del hielo."
   ]
  },
  {
   "cell_type": "code",
   "execution_count": 3,
   "metadata": {
    "collapsed": false
   },
   "outputs": [
    {
     "data": {
      "text/plain": [
       "conf_i (generic function with 1 method)"
      ]
     },
     "execution_count": 3,
     "metadata": {},
     "output_type": "execute_result"
    }
   ],
   "source": [
    "function conf_i(n::Int,m::Int)\n",
    "    out=zeros(n,n)\n",
    "    out[1,1]=rand(0:2)\n",
    "    for i in 1:n-1\n",
    "        for j in 1:n-1\n",
    "            out[i,j+1]=mod(out[i,j]+1,3)\n",
    "        end\n",
    "        out[i+1,:]=mod(out[i,:]+1,3)\n",
    "    end\n",
    "    \n",
    "    #cuando n es 1 mod 3, hay problemas con las reglas de hielo\n",
    "    if mod(n,3)==1\n",
    "        out[:,n]=mod(out[:,1]+1,3)\n",
    "        out[n,:]=mod(out[1,:]+1,3)\n",
    "        out[n,n]=mod(out[1,1]+2,3)\n",
    "    end\n",
    "    out\n",
    "end"
   ]
  },
  {
   "cell_type": "code",
   "execution_count": 4,
   "metadata": {
    "collapsed": false
   },
   "outputs": [
    {
     "data": {
      "text/plain": [
       "Single_cluster (generic function with 1 method)"
      ]
     },
     "execution_count": 4,
     "metadata": {},
     "output_type": "execute_result"
    }
   ],
   "source": [
    "function Single_cluster(arreglo::Array{Float64,2})\n",
    "    L2=length(arreglo[1,:])\n",
    "    L1=length(arreglo[:,1])\n",
    "    red_bool=trues(L1,L2)\n",
    "    #Se escoge un cuadrado al azar entre toda la red, y su número es escogido como 'colorA'\n",
    "    i=rand(1:L1)\n",
    "    j=rand(1:L2)\n",
    "    colorA=arreglo[i,j]\n",
    "    #Se escoge al azar un 'colorB' entre los restantes\n",
    "    colorB=mod(rand(colorA+1:colorA+2),3)\n",
    "    index_i=[i]\n",
    "    index_j=[j]\n",
    "    #Cambio el color de la celda inicial\n",
    "    arreglo[i,j]=colorB\n",
    "    red_bool[i,j]=false\n",
    "    test=false\n",
    "    t_limit=L1*2\n",
    "    t=1\n",
    "    while t<t_limit\n",
    "        new_index_i=Int[]\n",
    "        new_index_j=Int[]\n",
    "        for n=1:length(index_i)\n",
    "            for ii=0:1\n",
    "                inew=mod1(index_i[n]+ii*2-1,L1)\n",
    "                jnew=mod1(index_j[n]+ii*2-1,L2)\n",
    "                if arreglo[inew,index_j[n]]==colorA && red_bool[inew,index_j[n]]==true\n",
    "                    push!(new_index_i,inew)\n",
    "                    push!(new_index_j,index_j[n])\n",
    "                    red_bool[inew,index_j[n]]=false\n",
    "                    arreglo[inew,index_j[n]]=colorB\n",
    "                    test=true\n",
    "                end\n",
    "                if arreglo[inew,index_j[n]]==colorB && red_bool[inew,index_j[n]]==true\n",
    "                    push!(new_index_i,inew)\n",
    "                    push!(new_index_j,index_j[n])\n",
    "                    red_bool[inew,index_j[n]]=false\n",
    "                    arreglo[inew,index_j[n]]=colorA\n",
    "                    test=true\n",
    "                end\n",
    "                if arreglo[index_i[n],jnew]==colorA && red_bool[index_i[n],jnew]==true\n",
    "                    push!(new_index_i,index_i[n])\n",
    "                    push!(new_index_j,jnew)\n",
    "                    red_bool[index_i[n],jnew]=false\n",
    "                    arreglo[index_i[n],jnew]=colorB\n",
    "                    test=true\n",
    "                end\n",
    "                if arreglo[index_i[n],jnew]==colorB && red_bool[index_i[n],jnew]==true\n",
    "                    push!(new_index_i,index_i[n])\n",
    "                    push!(new_index_j,jnew)\n",
    "                    red_bool[index_i[n],jnew]=false\n",
    "                    arreglo[index_i[n],jnew]=colorA\n",
    "                    test=true\n",
    "                end\n",
    "            end\n",
    "        end\n",
    "        index_i=deepcopy(new_index_i)\n",
    "        index_j=deepcopy(new_index_j)\n",
    "        if test==false\n",
    "            #println(\"there are no more squares to add\")\n",
    "            t=t_limit\n",
    "        end\n",
    "        test=false\n",
    "    end\n",
    "    return arreglo\n",
    "end"
   ]
  },
  {
   "cell_type": "code",
   "execution_count": 5,
   "metadata": {
    "collapsed": false,
    "scrolled": true
   },
   "outputs": [
    {
     "data": {
      "image/png": "[encoded data removed]",
      "text/plain": [
       "PyPlot.Figure(PyObject <matplotlib.figure.Figure object at 0x30e5cbf50>)"
      ]
     },
     "metadata": {},
     "output_type": "display_data"
    },
    {
     "data": {
      "text/plain": [
       "PyObject <matplotlib.collections.QuadMesh object at 0x30ecf02d0>"
      ]
     },
     "execution_count": 5,
     "metadata": {},
     "output_type": "execute_result"
    }
   ],
   "source": [
    "hey=conf_i(5,5)\n",
    "fig=figure(figsize=[3,3])\n",
    "pcolormesh(hey)"
   ]
  },
  {
   "cell_type": "code",
   "execution_count": 6,
   "metadata": {
    "collapsed": false
   },
   "outputs": [
    {
     "data": {
      "text/plain": [
       "SingleCluster (generic function with 1 method)"
      ]
     },
     "execution_count": 6,
     "metadata": {},
     "output_type": "execute_result"
    }
   ],
   "source": [
    "function SingleCluster(arreglo::Array{Float64,2},red_bool,i,j,colorA, colorB)\n",
    "    L2=length(arreglo[1,:])\n",
    "    L1=length(arreglo[:,1])\n",
    "    #red_bool=trues(L1,L2)\n",
    "    arreglo_old=deepcopy(arreglo)\n",
    "    if arreglo[i,j]==colorA\n",
    "        arreglo[i,j]=colorB\n",
    "    else\n",
    "        arreglo[i,j]=colorA\n",
    "    end\n",
    "    index_i=[i]\n",
    "    index_j=[j]\n",
    "    red_bool[i,j]=false\n",
    "    test=false\n",
    "    t_limit=max(L1,L2)\n",
    "    t=1\n",
    "    while t<t_limit\n",
    "        new_index_i=Int[]\n",
    "        new_index_j=Int[]\n",
    "        for n=1:length(index_i)\n",
    "            for ii=0:1\n",
    "                inew=mod1(index_i[n]+ii*2-1,L1)\n",
    "                jnew=mod1(index_j[n]+ii*2-1,L2)\n",
    "                if arreglo[inew,index_j[n]]==colorA && red_bool[inew,index_j[n]]==true\n",
    "                    push!(new_index_i,inew)\n",
    "                    push!(new_index_j,index_j[n])\n",
    "                    red_bool[inew,index_j[n]]=false\n",
    "                    arreglo[inew,index_j[n]]=colorB\n",
    "                    test=true\n",
    "                end\n",
    "                if arreglo[inew,index_j[n]]==colorB && red_bool[inew,index_j[n]]==true\n",
    "                    push!(new_index_i,inew)\n",
    "                    push!(new_index_j,index_j[n])\n",
    "                    red_bool[inew,index_j[n]]=false\n",
    "                    arreglo[inew,index_j[n]]=colorA\n",
    "                    test=true\n",
    "                end\n",
    "                if arreglo[index_i[n],jnew]==colorA && red_bool[index_i[n],jnew]==true\n",
    "                    push!(new_index_i,index_i[n])\n",
    "                    push!(new_index_j,jnew)\n",
    "                    red_bool[index_i[n],jnew]=false\n",
    "                    arreglo[index_i[n],jnew]=colorB\n",
    "                    test=true\n",
    "                end\n",
    "                if arreglo[index_i[n],jnew]==colorB && red_bool[index_i[n],jnew]==true\n",
    "                    push!(new_index_i,index_i[n])\n",
    "                    push!(new_index_j,jnew)\n",
    "                    red_bool[index_i[n],jnew]=false\n",
    "                    arreglo[index_i[n],jnew]=colorA\n",
    "                    test=true\n",
    "                end\n",
    "            end\n",
    "        end\n",
    "        index_i=deepcopy(new_index_i)\n",
    "        index_j=deepcopy(new_index_j)\n",
    "        if test==false\n",
    "            t=t_limit\n",
    "        end\n",
    "        test=false\n",
    "    end\n",
    "    #Se escoge con 50% si se cambian o no los colores de este nuevo cluster \n",
    "    if rand()<0.5\n",
    "        #println(\":C\")\n",
    "        return arreglo_old,red_bool\n",
    "    else\n",
    "        return arreglo,red_bool\n",
    "    end\n",
    "end"
   ]
  },
  {
   "cell_type": "code",
   "execution_count": 7,
   "metadata": {
    "collapsed": false
   },
   "outputs": [
    {
     "data": {
      "text/plain": [
       "Update! (generic function with 1 method)"
      ]
     },
     "execution_count": 7,
     "metadata": {},
     "output_type": "execute_result"
    }
   ],
   "source": [
    "function Update!(red_bool,red_bool_dummy)\n",
    "    L2=length(red_bool[1,:])\n",
    "    L1=length(red_bool[:,1])\n",
    "    for i in 1:L1\n",
    "        for j in 1:L2\n",
    "            if red_bool_dummy[i,j]==false\n",
    "                red_bool[i,j]=false\n",
    "            end\n",
    "        end\n",
    "    end\n",
    "    #return red_bool\n",
    "end"
   ]
  },
  {
   "cell_type": "code",
   "execution_count": 8,
   "metadata": {
    "collapsed": false
   },
   "outputs": [
    {
     "data": {
      "text/plain": [
       "MultiCluster (generic function with 1 method)"
      ]
     },
     "execution_count": 8,
     "metadata": {},
     "output_type": "execute_result"
    }
   ],
   "source": [
    "function MultiCluster(arreglo)\n",
    "    L2=length(arreglo[1,:])\n",
    "    L1=length(arreglo[:,1])\n",
    "    red_bool=trues(L1,L2)\n",
    "    #hey=[]\n",
    "    #Se escoge al azar dos colores\n",
    "    colorA=rand(0:2)\n",
    "    colorB=mod(rand(colorA+1:colorA+2),3)\n",
    "    for i in 1:L1\n",
    "        for j in 1:L2\n",
    "            if red_bool[i,j]==true\n",
    "                if arreglo[i,j]==colorA || arreglo[i,j]==colorB\n",
    "                    arreglo,red_bool_dummy=SingleCluster(arreglo,red_bool,i,j,colorA,colorB)\n",
    "                    Update!(red_bool,red_bool_dummy)\n",
    "                end\n",
    "            end\n",
    "        end\n",
    "    end\n",
    "    return arreglo\n",
    "end"
   ]
  },
  {
   "cell_type": "code",
   "execution_count": 9,
   "metadata": {
    "collapsed": false
   },
   "outputs": [
    {
     "name": "stdout",
     "output_type": "stream",
     "text": [
      "hey = [0.0 1.0 2.0 0.0 1.0 2.0 0.0 1.0 2.0 0.0 1.0 2.0 0.0 1.0 2.0 0.0 1.0 2.0 0.0 1.0\n",
      " 1.0 2.0 0.0 1.0 2.0 0.0 1.0 2.0 0.0 1.0 2.0 0.0 1.0 2.0 0.0 1.0 2.0 0.0 1.0 2.0\n",
      " 2.0 0.0 1.0 2.0 0.0 1.0 2.0 0.0 1.0 2.0 0.0 1.0 2.0 0.0 1.0 2.0 0.0 1.0 2.0 0.0\n",
      " 0.0 1.0 2.0 0.0 1.0 2.0 0.0 1.0 2.0 0.0 1.0 2.0 0.0 1.0 2.0 0.0 1.0 2.0 0.0 1.0\n",
      " 1.0 2.0 0.0 1.0 2.0 0.0 1.0 2.0 0.0 1.0 2.0 0.0 1.0 2.0 0.0 1.0 2.0 0.0 1.0 2.0\n",
      " 2.0 0.0 1.0 2.0 0.0 1.0 2.0 0.0 1.0 2.0 0.0 1.0 2.0 0.0 1.0 2.0 0.0 1.0 2.0 0.0\n",
      " 0.0 1.0 2.0 0.0 1.0 2.0 0.0 1.0 2.0 0.0 1.0 2.0 0.0 1.0 2.0 0.0 1.0 2.0 0.0 1.0\n",
      " 1.0 2.0 0.0 1.0 2.0 0.0 1.0 2.0 0.0 1.0 2.0 0.0 1.0 2.0 0.0 1.0 2.0 0.0 1.0 2.0\n",
      " 2.0 0.0 1.0 2.0 0.0 1.0 2.0 0.0 1.0 2.0 0.0 1.0 2.0 0.0 1.0 2.0 0.0 1.0 2.0 0.0\n",
      " 0.0 1.0 2.0 0.0 1.0 2.0 0.0 1.0 2.0 0.0 1.0 2.0 0.0 1.0 2.0 0.0 1.0 2.0 0.0 1.0\n",
      " 1.0 2.0 0.0 1.0 2.0 0.0 1.0 2.0 0.0 1.0 2.0 0.0 1.0 2.0 0.0 1.0 2.0 0.0 1.0 2.0\n",
      " 2.0 0.0 1.0 2.0 0.0 1.0 2.0 0.0 1.0 2.0 0.0 1.0 2.0 0.0 1.0 2.0 0.0 1.0 2.0 0.0\n",
      " 0.0 1.0 2.0 0.0 1.0 2.0 0.0 1.0 2.0 0.0 1.0 2.0 0.0 1.0 2.0 0.0 1.0 2.0 0.0 1.0\n",
      " 1.0 2.0 0.0 1.0 2.0 0.0 1.0 2.0 0.0 1.0 2.0 0.0 1.0 2.0 0.0 1.0 2.0 0.0 1.0 2.0\n",
      " 2.0 0.0 1.0 2.0 0.0 1.0 2.0 0.0 1.0 2.0 0.0 1.0 2.0 0.0 1.0 2.0 0.0 1.0 2.0 0.0\n",
      " 0.0 1.0 2.0 0.0 1.0 2.0 0.0 1.0 2.0 0.0 1.0 2.0 0.0 1.0 2.0 0.0 1.0 2.0 0.0 1.0\n",
      " 1.0 2.0 0.0 1.0 2.0 0.0 1.0 2.0 0.0 1.0 2.0 0.0 1.0 2.0 0.0 1.0 2.0 0.0 1.0 2.0\n",
      " 2.0 0.0 1.0 2.0 0.0 1.0 2.0 0.0 1.0 2.0 0.0 1.0 2.0 0.0 1.0 2.0 0.0 1.0 2.0 0.0\n",
      " 0.0 1.0 2.0 0.0 1.0 2.0 0.0 1.0 2.0 0.0 1.0 2.0 0.0 1.0 2.0 0.0 1.0 2.0 0.0 1.0\n",
      " 1.0 2.0 0.0 1.0 2.0 0.0 1.0 2.0 0.0 1.0 2.0 0.0 1.0 2.0 0.0 1.0 2.0 0.0 1.0 2.0]\n"
     ]
    },
    {
     "data": {
      "image/png": "[encoded data removed]",
      "text/plain": [
       "PyPlot.Figure(PyObject <matplotlib.figure.Figure object at 0x30ed9dc10>)"
      ]
     },
     "metadata": {},
     "output_type": "display_data"
    },
    {
     "data": {
      "text/plain": [
       "PyObject <matplotlib.collections.QuadMesh object at 0x303b57550>"
      ]
     },
     "execution_count": 9,
     "metadata": {},
     "output_type": "execute_result"
    }
   ],
   "source": [
    "hey_old=conf_i(20,20)\n",
    "hey=copy(hey_old)\n",
    "@show hey\n",
    "for t in 1:1000\n",
    "    hey_new=MultiCluster(hey_old)\n",
    "    hey_new,hey_old=hey_old,hey_new\n",
    "end\n",
    "figure(figsize=[8,6])\n",
    "subplot(1,2,1)\n",
    "#figure(figsize=[3,3])\n",
    "pcolormesh(hey)\n",
    "\n",
    "subplot(1,2,2)\n",
    "pcolormesh(hey_old)"
   ]
  },
  {
   "cell_type": "markdown",
   "metadata": {
    "collapsed": true
   },
   "source": [
    "#Energías"
   ]
  },
  {
   "cell_type": "markdown",
   "metadata": {},
   "source": [
    "Existen muchos modelos energéticos para el arreglo de los Hidrógenos en los Oxígenos. Trabajaremos con el modelo $F$ que favorece los arreglos simétricos. Para el modelo de 3 colores, esto se traduce en parejas de segundos vecinos (diagonales) del mismo color. El hamiltoniano se transforma entonces:\n",
    "$$H=-\\epsilon \\sum \\limits_{[i,j]}(\\delta_{c_ic_j} - \\frac{1}{2})=N\\epsilon - \\epsilon \\sum \\limits_{[i,j]}\\delta_{c_ic_j}$$"
   ]
  },
  {
   "cell_type": "markdown",
   "metadata": {},
   "source": [
    "El algoritmo entonces para crear clusters que favorezcan parejas de segundos vecinos del mismo color dependiente de la temperatura será:\n",
    "1. Escogemos un cuadro de toda la red como semilla de nuestro cluster. Este cuadro tiene color A.\n",
    "2. Escogemos un segundo color de las otras dos posibilidades, lo llamamos color B.\n",
    "3. Empezando de nuestra semilla, formamos un cluster de cuadros añadiendo todos los primeros vecinos que tengan color A o color B, pero además ahora incluiremos con probablidad $P_{add}(T)$ a los segundos vecinos del cuadro $i$ que ya está en el cluster con la condición que tengan el mismo color que $i$.\n",
    "4. Los colores A y B de todos los cuadros del cluster son intercambiados."
   ]
  },
  {
   "cell_type": "markdown",
   "metadata": {},
   "source": [
    "$$P_{add}=1-e^{-\\beta \\epsilon}$$"
   ]
  },
  {
   "cell_type": "code",
   "execution_count": 10,
   "metadata": {
    "collapsed": false
   },
   "outputs": [
    {
     "data": {
      "text/plain": [
       "segundos_vecinos (generic function with 1 method)"
      ]
     },
     "execution_count": 10,
     "metadata": {},
     "output_type": "execute_result"
    }
   ],
   "source": [
    "function segundos_vecinos(arreglo::Array{Float64,2},i,j)\n",
    "    L1=length(arreglo[:,1])\n",
    "    L2=length(arreglo[1,:])\n",
    "    arreglo[mod1(i-1,L1),mod1(j-1,L2)],arreglo[mod1(i-1,L1),mod1(j+1,L2)],arreglo[mod1(i+1,L1),mod1(j-1,L2)],arreglo[mod1(i+1,L1),mod1(j+1,L2)]\n",
    "end"
   ]
  },
  {
   "cell_type": "code",
   "execution_count": 11,
   "metadata": {
    "collapsed": false
   },
   "outputs": [
    {
     "data": {
      "text/plain": [
       "indices_segundos (generic function with 1 method)"
      ]
     },
     "execution_count": 11,
     "metadata": {},
     "output_type": "execute_result"
    }
   ],
   "source": [
    "function indices_segundos(ij,i,j,L1,L2)\n",
    "    if ij==1\n",
    "        return mod1(i-1,L1),mod1(j-1,L2)\n",
    "        elseif ij==2\n",
    "        return mod1(i-1,L1),mod1(j+1,L2)\n",
    "        elseif ij==3\n",
    "        return mod1(i+1,L1),mod1(j-1,L2)\n",
    "        elseif ij==4\n",
    "        return mod1(i+1,L1),mod1(j+1,L2)\n",
    "    end\n",
    "end"
   ]
  },
  {
   "cell_type": "code",
   "execution_count": 12,
   "metadata": {
    "collapsed": false
   },
   "outputs": [
    {
     "data": {
      "text/plain": [
       "contador_segundos (generic function with 1 method)"
      ]
     },
     "execution_count": 12,
     "metadata": {},
     "output_type": "execute_result"
    }
   ],
   "source": [
    "function contador_segundos(arreglo::Array{Float64,2})\n",
    "    L1=length(arreglo[:,1])\n",
    "    L2=length(arreglo[1,:])\n",
    "    contador=0\n",
    "    for i in 1:L1\n",
    "        for j in 1:L2\n",
    "            for ij in 1:4\n",
    "                if segundos_vecinos(arreglo,i,j)[ij]==arreglo[i,j]\n",
    "                    contador+=1\n",
    "                end\n",
    "            end\n",
    "        end\n",
    "    end\n",
    "    contador/2\n",
    "end"
   ]
  },
  {
   "cell_type": "code",
   "execution_count": 13,
   "metadata": {
    "collapsed": false
   },
   "outputs": [
    {
     "data": {
      "text/plain": [
       "Single_cluster_E (generic function with 2 methods)"
      ]
     },
     "execution_count": 13,
     "metadata": {},
     "output_type": "execute_result"
    }
   ],
   "source": [
    "function Single_cluster_E(β,arreglo::Array{Float64,2},ϵ=1.0)\n",
    "    L2=length(arreglo[1,:])\n",
    "    L1=length(arreglo[:,1])\n",
    "    red_bool=trues(L1,L2)\n",
    "    P_add=1-e^(-β*ϵ)\n",
    "    #Se escoge un cuadrado al azar entre toda la red, y su número es escogido como 'colorA'\n",
    "    i=rand(1:L1)\n",
    "    j=rand(1:L2)\n",
    "    colorA=arreglo[i,j]\n",
    "    #Se escoge al azar un 'colorB' entre los restantes\n",
    "    colorB=mod(rand(colorA+1:colorA+2),3)\n",
    "    index_i=[i]\n",
    "    index_j=[j]\n",
    "    colorC=3-(colorA+colorB)\n",
    "    #Cambio el color de la celda inicial\n",
    "    arreglo[i,j]=colorB\n",
    "    red_bool[i,j]=false\n",
    "    test=false\n",
    "    t_limit=L1*2\n",
    "    t=1\n",
    "    while t<t_limit\n",
    "        new_index_i=Int[]\n",
    "        new_index_j=Int[]\n",
    "        for n=1:length(index_i)\n",
    "            for ii=0:1\n",
    "                inew=mod1(index_i[n]+ii*2-1,L1)\n",
    "                jnew=mod1(index_j[n]+ii*2-1,L2)\n",
    "                if arreglo[inew,index_j[n]]==colorA && red_bool[inew,index_j[n]]==true\n",
    "                    push!(new_index_i,inew)\n",
    "                    push!(new_index_j,index_j[n])\n",
    "                    red_bool[inew,index_j[n]]=false\n",
    "                    arreglo[inew,index_j[n]]=colorB\n",
    "                    test=true\n",
    "                end\n",
    "                if arreglo[inew,index_j[n]]==colorB && red_bool[inew,index_j[n]]==true\n",
    "                    push!(new_index_i,inew)\n",
    "                    push!(new_index_j,index_j[n])\n",
    "                    red_bool[inew,index_j[n]]=false\n",
    "                    arreglo[inew,index_j[n]]=colorA\n",
    "                    test=true\n",
    "                end\n",
    "                if arreglo[index_i[n],jnew]==colorA && red_bool[index_i[n],jnew]==true\n",
    "                    push!(new_index_i,index_i[n])\n",
    "                    push!(new_index_j,jnew)\n",
    "                    red_bool[index_i[n],jnew]=false\n",
    "                    arreglo[index_i[n],jnew]=colorB\n",
    "                    test=true\n",
    "                end\n",
    "                if arreglo[index_i[n],jnew]==colorB && red_bool[index_i[n],jnew]==true\n",
    "                    push!(new_index_i,index_i[n])\n",
    "                    push!(new_index_j,jnew)\n",
    "                    red_bool[index_i[n],jnew]=false\n",
    "                    arreglo[index_i[n],jnew]=colorA\n",
    "                    test=true\n",
    "                end\n",
    "            end\n",
    "            #Segundos vecinos\n",
    "            segundo=segundos_vecinos(arreglo,index_i[n],index_j[n])\n",
    "            for ij in 1:4\n",
    "                ii_new=indices_segundos(ij,index_i[n],index_j[n],L1,L2)[1]\n",
    "                jj_new=indices_segundos(ij,index_i[n],index_j[n],L1,L2)[2]\n",
    "                if segundo[ij] !=arreglo[index_i[n],index_j[n]] && segundo[ij] !=colorC && red_bool[ii_new,jj_new]==true\n",
    "                    if rand()<P_add\n",
    "                        push!(new_index_i,ii_new)\n",
    "                        push!(new_index_j,jj_new)\n",
    "                        red_bool[ii_new,jj_new]=false\n",
    "                        if arreglo[index_i[n],index_j[n]]==colorA\n",
    "                                arreglo[ii_new,jj_new]=colorA\n",
    "                        else\n",
    "                                arreglo[ii_new,jj_new]=colorB\n",
    "                        end\n",
    "                        test=true\n",
    "                    end\n",
    "                end\n",
    "            end\n",
    "        end\n",
    "        index_i=deepcopy(new_index_i)\n",
    "        index_j=deepcopy(new_index_j)\n",
    "        if test==false\n",
    "            #println(\"there are no more squares to add\")\n",
    "            t=t_limit\n",
    "        end\n",
    "        test=false\n",
    "    end\n",
    "    return arreglo\n",
    "end"
   ]
  },
  {
   "cell_type": "code",
   "execution_count": 14,
   "metadata": {
    "collapsed": false
   },
   "outputs": [
    {
     "data": {
      "image/png": "[encoded data removed]",
      "text/plain": [
       "PyPlot.Figure(PyObject <matplotlib.figure.Figure object at 0x30f12ebd0>)"
      ]
     },
     "metadata": {},
     "output_type": "display_data"
    },
    {
     "data": {
      "text/plain": [
       "PyObject <matplotlib.collections.QuadMesh object at 0x30f3b0e50>"
      ]
     },
     "execution_count": 14,
     "metadata": {},
     "output_type": "execute_result"
    }
   ],
   "source": [
    "inicial_s=conf_i(20,20)\n",
    "old=copy(inicial_s)\n",
    "for t in 1:100\n",
    "    new=Single_cluster_E(1.0,old)\n",
    "    new,old=old,new\n",
    "end\n",
    "figure(figsize=[8,6])\n",
    "subplot(1,2,1)\n",
    "#figure(figsize=[3,3])\n",
    "pcolormesh(inicial_s)\n",
    "\n",
    "subplot(1,2,2)\n",
    "pcolormesh(old)"
   ]
  },
  {
   "cell_type": "code",
   "execution_count": 15,
   "metadata": {
    "collapsed": false
   },
   "outputs": [
    {
     "ename": "LoadError",
     "evalue": "LoadError: UndefVarError: inicial not defined\nwhile loading In[15], in expression starting on line 1",
     "output_type": "error",
     "traceback": [
      "LoadError: UndefVarError: inicial not defined\nwhile loading In[15], in expression starting on line 1",
      ""
     ]
    }
   ],
   "source": [
    "contador_segundos(inicial),contador_segundos(old)"
   ]
  },
  {
   "cell_type": "code",
   "execution_count": 16,
   "metadata": {
    "collapsed": false
   },
   "outputs": [
    {
     "name": "stdout",
     "output_type": "stream",
     "text": [
      "elapsed time: 57.703484284 seconds (7324 MB allocated, 4.07% gc time in 335 pauses with 0 full sweep)\n"
     ]
    }
   ],
   "source": [
    "old=conf_i(20,20)\n",
    "betas=[i*0.2 for i in 0:20]\n",
    "out=zeros(length(betas))\n",
    "@time for i in 1:length(betas)\n",
    "    for t in 1:1000\n",
    "        new=Single_cluster_E(betas[i],old)\n",
    "        old,new=new,old\n",
    "    end\n",
    "    out[i]=contador_segundos(old)\n",
    "end"
   ]
  },
  {
   "cell_type": "code",
   "execution_count": 17,
   "metadata": {
    "collapsed": false
   },
   "outputs": [
    {
     "data": {
      "image/png": "[encoded data removed]",
      "text/plain": [
       "PyPlot.Figure(PyObject <matplotlib.figure.Figure object at 0x30f366390>)"
      ]
     },
     "metadata": {},
     "output_type": "display_data"
    },
    {
     "data": {
      "text/plain": [
       "1-element Array{Any,1}:\n",
       " PyObject <matplotlib.lines.Line2D object at 0x30f631a10>"
      ]
     },
     "execution_count": 17,
     "metadata": {},
     "output_type": "execute_result"
    }
   ],
   "source": [
    "title(\"Número de segundos vecinos con el mismo color como función de la temperatura, L=20\")\n",
    "xlabel(L\"$\\beta$\")\n",
    "ylabel(\"Cuentas\")\n",
    "plot(betas,out)"
   ]
  },
  {
   "cell_type": "markdown",
   "metadata": {},
   "source": [
    "###A medida que la temperatura baja, vemos que es más fácil aceptar los cambios y el número de segundos vecinos con el mismo color tiende a su máximo de 2N"
   ]
  },
  {
   "cell_type": "code",
   "execution_count": 18,
   "metadata": {
    "collapsed": true
   },
   "outputs": [],
   "source": [
    "old=conf_i(30,30)\n",
    "inicial=copy(old)\n",
    "for t in 1:1000\n",
    "    new=Single_cluster_E(0.1,old)\n",
    "    old,new=new,old\n",
    "end"
   ]
  },
  {
   "cell_type": "code",
   "execution_count": 19,
   "metadata": {
    "collapsed": false
   },
   "outputs": [
    {
     "data": {
      "image/png": "[encoded data removed]",
      "text/plain": [
       "PyPlot.Figure(PyObject <matplotlib.figure.Figure object at 0x30eefe350>)"
      ]
     },
     "metadata": {},
     "output_type": "display_data"
    },
    {
     "data": {
      "text/plain": [
       "PyObject <matplotlib.collections.QuadMesh object at 0x30fa21250>"
      ]
     },
     "execution_count": 19,
     "metadata": {},
     "output_type": "execute_result"
    }
   ],
   "source": [
    "figure(figsize=[8,6])\n",
    "subplot(1,2,1)\n",
    "#figure(figsize=[3,3])\n",
    "pcolormesh(inicial)\n",
    "\n",
    "subplot(1,2,2)\n",
    "pcolormesh(old)"
   ]
  },
  {
   "cell_type": "markdown",
   "metadata": {},
   "source": [
    "#A partir de aquí las cosas no funcionan tan bien"
   ]
  },
  {
   "cell_type": "code",
   "execution_count": 20,
   "metadata": {
    "collapsed": false
   },
   "outputs": [
    {
     "data": {
      "text/plain": [
       "SingleCluster_E (generic function with 2 methods)"
      ]
     },
     "execution_count": 20,
     "metadata": {},
     "output_type": "execute_result"
    }
   ],
   "source": [
    "function SingleCluster_E(β,arreglo::Array{Float64,2},red_bool,i,j,colorA,colorB,colorC,ϵ=1.0)\n",
    "    L2=length(arreglo[1,:])\n",
    "    L1=length(arreglo[:,1])\n",
    "    P_add=1-e^(-β*ϵ)\n",
    "    arreglo_old=copy(arreglo)\n",
    "    if arreglo[i,j]==colorA\n",
    "        arreglo[i,j]=colorB\n",
    "    else\n",
    "        arreglo[i,j]=colorA\n",
    "    end\n",
    "    index_i=[i]\n",
    "    index_j=[j]\n",
    "    red_bool[i,j]=false\n",
    "    test=false\n",
    "    t_limit=max(L1,L2)\n",
    "    t=1\n",
    "    while t<t_limit\n",
    "        new_index_i=Int[]\n",
    "        new_index_j=Int[]\n",
    "        for n=1:length(index_i)\n",
    "            for ii=0:1\n",
    "                inew=mod1(index_i[n]+ii*2-1,L1)\n",
    "                jnew=mod1(index_j[n]+ii*2-1,L2)\n",
    "                if arreglo[inew,index_j[n]]==colorA && red_bool[inew,index_j[n]]==true\n",
    "                    push!(new_index_i,inew)\n",
    "                    push!(new_index_j,index_j[n])\n",
    "                    red_bool[inew,index_j[n]]=false\n",
    "                    arreglo[inew,index_j[n]]=colorB\n",
    "                    test=true\n",
    "                end\n",
    "                if arreglo[inew,index_j[n]]==colorB && red_bool[inew,index_j[n]]==true\n",
    "                    push!(new_index_i,inew)\n",
    "                    push!(new_index_j,index_j[n])\n",
    "                    red_bool[inew,index_j[n]]=false\n",
    "                    arreglo[inew,index_j[n]]=colorA\n",
    "                    test=true\n",
    "                end\n",
    "                if arreglo[index_i[n],jnew]==colorA && red_bool[index_i[n],jnew]==true\n",
    "                    push!(new_index_i,index_i[n])\n",
    "                    push!(new_index_j,jnew)\n",
    "                    red_bool[index_i[n],jnew]=false\n",
    "                    arreglo[index_i[n],jnew]=colorB\n",
    "                    test=true\n",
    "                end\n",
    "                if arreglo[index_i[n],jnew]==colorB && red_bool[index_i[n],jnew]==true\n",
    "                    push!(new_index_i,index_i[n])\n",
    "                    push!(new_index_j,jnew)\n",
    "                    red_bool[index_i[n],jnew]=false\n",
    "                    arreglo[index_i[n],jnew]=colorA\n",
    "                    test=true\n",
    "                end\n",
    "            end\n",
    "            segundo=segundos_vecinos(arreglo,index_i[n],index_j[n])\n",
    "            for ij in 1:4\n",
    "                ii_new=indices_segundos(ij,index_i[n],index_j[n],L1,L2)[1]\n",
    "                jj_new=indices_segundos(ij,index_i[n],index_j[n],L1,L2)[2]\n",
    "                if segundo[ij] !=arreglo[index_i[n],index_j[n]] && segundo[ij] !=colorC && red_bool[ii_new,jj_new]==true\n",
    "                    if rand()<P_add\n",
    "                    #println(\"aceptó\")\n",
    "                        push!(new_index_i,ii_new)\n",
    "                        push!(new_index_j,jj_new)\n",
    "                        red_bool[ii_new,jj_new]=false\n",
    "                        if arreglo[index_i[n],index_j[n]]==colorA\n",
    "                                arreglo[ii_new,jj_new]=colorA\n",
    "                        else\n",
    "                                arreglo[ii_new,jj_new]=colorB\n",
    "                        end\n",
    "                        test=true\n",
    "                    end\n",
    "                end\n",
    "            end\n",
    "        end\n",
    "        index_i=deepcopy(new_index_i)\n",
    "        index_j=deepcopy(new_index_j)\n",
    "        if test==false\n",
    "            t=t_limit\n",
    "        end\n",
    "        test=false\n",
    "    end\n",
    "    if rand()<0.5\n",
    "        #println(\":C\")\n",
    "        return arreglo_old,red_bool\n",
    "    else\n",
    "        return arreglo,red_bool\n",
    "    end\n",
    "end"
   ]
  },
  {
   "cell_type": "code",
   "execution_count": 21,
   "metadata": {
    "collapsed": false
   },
   "outputs": [
    {
     "data": {
      "text/plain": [
       "MultiCluster_E (generic function with 2 methods)"
      ]
     },
     "execution_count": 21,
     "metadata": {},
     "output_type": "execute_result"
    }
   ],
   "source": [
    "function MultiCluster_E(β,arreglo,ϵ=1.0)\n",
    "    L2=length(arreglo[1,:])\n",
    "    L1=length(arreglo[:,1])\n",
    "    red_bool=trues(L1,L2)\n",
    "    #Se escoge al azar dos colores\n",
    "    colorA=rand(0:2)\n",
    "    colorB=mod(rand(colorA+1:colorA+2),3)\n",
    "    colorC=3-(colorA+colorB)\n",
    "    for i in 1:L1\n",
    "        for j in 1:L2\n",
    "            if red_bool[i,j]==true\n",
    "                if arreglo[i,j]==colorA || arreglo[i,j]==colorB\n",
    "                    arreglo,red_bool_dummy=SingleCluster_E(β,arreglo,red_bool,i,j,colorA,colorB,colorC)\n",
    "                    Update!(red_bool,red_bool_dummy)\n",
    "                end\n",
    "            end\n",
    "        end\n",
    "    end\n",
    "    return arreglo\n",
    "end"
   ]
  },
  {
   "cell_type": "markdown",
   "metadata": {},
   "source": [
    "Aquí hay un ejemplo del multicluster trabajando con una configuración distinta a las diagonales"
   ]
  },
  {
   "cell_type": "code",
   "execution_count": 51,
   "metadata": {
    "collapsed": false
   },
   "outputs": [],
   "source": [
    "inicial=conf_i(100,100)\n",
    "old=copy(inicial)\n",
    "for t in 1:100\n",
    "    new=MultiCluster(old)\n",
    "    new,old=old,new\n",
    "end\n",
    "inicial2=copy(old);"
   ]
  },
  {
   "cell_type": "code",
   "execution_count": 58,
   "metadata": {
    "collapsed": false
   },
   "outputs": [
    {
     "data": {
      "image/png": "[encoded data removed]",
      "text/plain": [
       "PyPlot.Figure(PyObject <matplotlib.figure.Figure object at 0x314d07750>)"
      ]
     },
     "metadata": {},
     "output_type": "display_data"
    },
    {
     "data": {
      "text/plain": [
       "PyObject <matplotlib.collections.QuadMesh object at 0x314ff3450>"
      ]
     },
     "execution_count": 58,
     "metadata": {},
     "output_type": "execute_result"
    }
   ],
   "source": [
    "old=copy(inicial2)\n",
    "for t in 1:20\n",
    "    new=MultiCluster_E(1000.0,old)\n",
    "    new,old=old,new\n",
    "end\n",
    "figure(figsize=[8,6])\n",
    "subplot(1,2,1)\n",
    "#figure(figsize=[3,3])\n",
    "pcolormesh(inicial2)\n",
    "\n",
    "subplot(1,2,2)\n",
    "pcolormesh(old)"
   ]
  },
  {
   "cell_type": "markdown",
   "metadata": {},
   "source": [
    "Si se usara como distribución inicial, las diagonales"
   ]
  },
  {
   "cell_type": "code",
   "execution_count": 24,
   "metadata": {
    "collapsed": false
   },
   "outputs": [
    {
     "data": {
      "image/png": "[encoded data removed]",
      "text/plain": [
       "PyPlot.Figure(PyObject <matplotlib.figure.Figure object at 0x30fde4390>)"
      ]
     },
     "metadata": {},
     "output_type": "display_data"
    },
    {
     "data": {
      "text/plain": [
       "PyObject <matplotlib.collections.QuadMesh object at 0x31009b8d0>"
      ]
     },
     "execution_count": 24,
     "metadata": {},
     "output_type": "execute_result"
    }
   ],
   "source": [
    "inicial=conf_i(20,20)\n",
    "old=copy(inicial)\n",
    "for t in 1:2\n",
    "    new=MultiCluster_E(1000.0,old)\n",
    "    new,old=old,new\n",
    "end\n",
    "figure(figsize=[8,6])\n",
    "subplot(1,2,1)\n",
    "#figure(figsize=[3,3])\n",
    "pcolormesh(inicial)\n",
    "\n",
    "subplot(1,2,2)\n",
    "pcolormesh(old)"
   ]
  },
  {
   "cell_type": "markdown",
   "metadata": {},
   "source": [
    "Hasta converge \"endiabladamente\" rápido"
   ]
  },
  {
   "cell_type": "code",
   "execution_count": 57,
   "metadata": {
    "collapsed": false
   },
   "outputs": [
    {
     "data": {
      "image/png": "[encoded data removed]",
      "text/plain": [
       "PyPlot.Figure(PyObject <matplotlib.figure.Figure object at 0x314a2cc10>)"
      ]
     },
     "metadata": {},
     "output_type": "display_data"
    },
    {
     "data": {
      "text/plain": [
       "PyObject <matplotlib.collections.QuadMesh object at 0x314cc8990>"
      ]
     },
     "execution_count": 57,
     "metadata": {},
     "output_type": "execute_result"
    }
   ],
   "source": [
    "inicial=conf_i(20,20)\n",
    "old=copy(inicial)\n",
    "for t in 1:17\n",
    "    new=MultiCluster_E(1000.0,old)\n",
    "    new,old=old,new\n",
    "end\n",
    "figure(figsize=[8,6])\n",
    "subplot(1,2,1)\n",
    "#figure(figsize=[3,3])\n",
    "pcolormesh(inicial)\n",
    "\n",
    "subplot(1,2,2)\n",
    "pcolormesh(old)"
   ]
  },
  {
   "cell_type": "code",
   "execution_count": 26,
   "metadata": {
    "collapsed": false
   },
   "outputs": [
    {
     "data": {
      "text/plain": [
       "400.0"
      ]
     },
     "execution_count": 26,
     "metadata": {},
     "output_type": "execute_result"
    }
   ],
   "source": [
    "contador_segundos(inicial)"
   ]
  },
  {
   "cell_type": "code",
   "execution_count": 27,
   "metadata": {
    "collapsed": false
   },
   "outputs": [
    {
     "data": {
      "text/plain": [
       "756.0"
      ]
     },
     "execution_count": 27,
     "metadata": {},
     "output_type": "execute_result"
    }
   ],
   "source": [
    "contador_segundos(old)"
   ]
  },
  {
   "cell_type": "code",
   "execution_count": 133,
   "metadata": {
    "collapsed": false
   },
   "outputs": [],
   "source": [
    "#             der=mod1(index_i[n]+1,L1)\n",
    "#             aba=mod1(index_j[n]-1,L2)\n",
    "#             izq=mod1(index_i[n]-1,L1)\n",
    "#             arr=mod1(index_j[n]+1,L2)\n",
    "            #Los otros segundos vecinos\n",
    "#             if arreglo[der,aba]!=arreglo[index_i[n],index_j[n]] && arreglo[der,aba]!=colorC && #\n",
    "#            red_bool[der,aba]==true\n",
    "#                 if rand()<P_add\n",
    "#                     #println(\"aceptó\")\n",
    "#                     push!(new_index_i,der)\n",
    "#                     push!(new_index_j,aba)\n",
    "#                     red_bool[der,aba]=false\n",
    "#                     if arreglo[index_i[n],index_j[n]]==colorA\n",
    "#                         arreglo[der,aba]=colorA\n",
    "#                     else\n",
    "#                         arreglo[der,aba]=colorB\n",
    "#                     end\n",
    "#                 end\n",
    "#                 test=true\n",
    "#             end"
   ]
  },
  {
   "cell_type": "code",
   "execution_count": null,
   "metadata": {
    "collapsed": true
   },
   "outputs": [],
   "source": []
  }
 ],
 "metadata": {
  "kernelspec": {
   "display_name": "Julia 0.4.0-dev",
   "language": "julia",
   "name": "julia 0.4"
  },
  "language_info": {
   "name": "julia",
   "version": "0.4.0"
  }
 },
 "nbformat": 4,
 "nbformat_minor": 0
}
